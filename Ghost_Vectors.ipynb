{
  "nbformat": 4,
  "nbformat_minor": 0,
  "metadata": {
    "colab": {
      "name": "Ghost_Vectors.ipynb",
      "provenance": [],
      "collapsed_sections": [],
      "include_colab_link": true
    },
    "kernelspec": {
      "name": "python3",
      "display_name": "Python 3"
    }
  },
  "cells": [
    {
      "cell_type": "markdown",
      "metadata": {
        "id": "view-in-github",
        "colab_type": "text"
      },
      "source": [
        "<a href=\"https://colab.research.google.com/github/LiteraryVectors/Python_library/blob/Data_Science_Techniques/Ghost_Vectors.ipynb\" target=\"_parent\"><img src=\"https://colab.research.google.com/assets/colab-badge.svg\" alt=\"Open In Colab\"/></a>"
      ]
    },
    {
      "cell_type": "markdown",
      "metadata": {
        "id": "rgVvByo2P2JH"
      },
      "source": [
        "# Test Project (Just for Fun)\n",
        "# The Subjectivity of Gendered Ghosts in Mattew Lewis' *The Monk* and Horace Walpole's *The Castle of Otranto*\n",
        "\n",
        "![alt text](https://upload.wikimedia.org/wikipedia/commons/b/b6/Ghost_Stories_May_1931.jpg)"
      ]
    },
    {
      "cell_type": "code",
      "metadata": {
        "id": "YW1Ql2nDbaGh",
        "colab": {
          "base_uri": "https://localhost:8080/"
        },
        "outputId": "e86cd215-2dee-4eae-d021-00bd418b877e"
      },
      "source": [
        "!python -m pip install pysimplegui\n"
      ],
      "execution_count": 1,
      "outputs": [
        {
          "output_type": "stream",
          "name": "stdout",
          "text": [
            "Looking in indexes: https://pypi.org/simple, https://us-python.pkg.dev/colab-wheels/public/simple/\n",
            "Requirement already satisfied: pysimplegui in /usr/local/lib/python3.7/dist-packages (4.60.3)\n"
          ]
        }
      ]
    },
    {
      "cell_type": "markdown",
      "metadata": {
        "id": "6HB4Ho1oWJAw"
      },
      "source": [
        "# Part One: \n",
        "\n",
        "The first section of this exam will include an attempt to explore my reading of two Gothic novels utilizing functions from my own repository, slicing strings to cut the Gutenburg.org headers, creating lists, writing *for* loops to update a data frame, sorting a word bag by author name and storing to the results to an outside file which can be read back in, and analyzing the word instances from a humanist prospective. \n",
        "\n",
        "The two novels explored below are some of the earliest examples in the genre of Gothic Literature, Horace Walpole's *The Castle of Otranto*, and Matthew Lewis' *The Monk* (both 18th century). They are often read as artifacts of several social tensions, including gender representation. Specifically, these novels were highly sexist.\n",
        "\n",
        "**Research Questions: Are women talked about as objects in the way ghosts are? Do women hold more subjectivity in these strikingly androcentric novels than that of ghosts?**\n"
      ]
    },
    {
      "cell_type": "code",
      "metadata": {
        "id": "CPFIs2NV3lZa"
      },
      "source": [
        "import pandas as pd"
      ],
      "execution_count": 2,
      "outputs": []
    },
    {
      "cell_type": "code",
      "source": [
        "!ls"
      ],
      "metadata": {
        "colab": {
          "base_uri": "https://localhost:8080/"
        },
        "id": "hIUmPhSepMkk",
        "outputId": "58a7cb09-0ff3-4f78-f81a-2d37020706ba"
      },
      "execution_count": 3,
      "outputs": [
        {
          "output_type": "stream",
          "name": "stdout",
          "text": [
            "601-0.txt    601-0.txt.3  696-0.txt    696-0.txt.3  Python_library\n",
            "601-0.txt.1  601-0.txt.4  696-0.txt.1  696-0.txt.4\n",
            "601-0.txt.2  601-0.txt.5  696-0.txt.2  gdrive\n"
          ]
        }
      ]
    },
    {
      "cell_type": "code",
      "metadata": {
        "id": "60J2bO34MUX8",
        "colab": {
          "base_uri": "https://localhost:8080/"
        },
        "outputId": "6767199f-f3ff-42ad-c742-97c3f73766e7"
      },
      "source": [
        "!rm -r Python_library\tsample_data\n",
        "LiteraryVectors = 'LiteraryVectors'\n",
        "clone_url = f'https://github.com/{LiteraryVectors}/Python_library.git'\n",
        "!git clone $clone_url\n"
      ],
      "execution_count": 4,
      "outputs": [
        {
          "output_type": "stream",
          "name": "stdout",
          "text": [
            "rm: cannot remove 'sample_data': No such file or directory\n",
            "Cloning into 'Python_library'...\n",
            "remote: Enumerating objects: 240, done.\u001b[K\n",
            "remote: Counting objects: 100% (216/216), done.\u001b[K\n",
            "remote: Compressing objects: 100% (114/114), done.\u001b[K\n",
            "remote: Total 240 (delta 122), reused 173 (delta 99), pack-reused 24\u001b[K\n",
            "Receiving objects: 100% (240/240), 79.29 KiB | 4.40 MiB/s, done.\n",
            "Resolving deltas: 100% (124/124), done.\n"
          ]
        }
      ]
    },
    {
      "cell_type": "code",
      "metadata": {
        "id": "GmjnpXZZIhIs",
        "colab": {
          "base_uri": "https://localhost:8080/"
        },
        "outputId": "e7466fd5-f33c-4de5-89a6-8a5204993b46"
      },
      "source": [
        "import spacy\n",
        "!python -m spacy download en_core_web_lg"
      ],
      "execution_count": 5,
      "outputs": [
        {
          "output_type": "stream",
          "name": "stdout",
          "text": [
            "2022-08-20 18:02:33.539516: E tensorflow/stream_executor/cuda/cuda_driver.cc:271] failed call to cuInit: CUDA_ERROR_NO_DEVICE: no CUDA-capable device is detected\n",
            "Looking in indexes: https://pypi.org/simple, https://us-python.pkg.dev/colab-wheels/public/simple/\n",
            "Collecting en-core-web-lg==3.4.0\n",
            "  Downloading https://github.com/explosion/spacy-models/releases/download/en_core_web_lg-3.4.0/en_core_web_lg-3.4.0-py3-none-any.whl (587.7 MB)\n",
            "\u001b[K     |████████████████████████████████| 587.7 MB 7.6 kB/s \n",
            "\u001b[?25hRequirement already satisfied: spacy<3.5.0,>=3.4.0 in /usr/local/lib/python3.7/dist-packages (from en-core-web-lg==3.4.0) (3.4.1)\n",
            "Requirement already satisfied: pathy>=0.3.5 in /usr/local/lib/python3.7/dist-packages (from spacy<3.5.0,>=3.4.0->en-core-web-lg==3.4.0) (0.6.2)\n",
            "Requirement already satisfied: catalogue<2.1.0,>=2.0.6 in /usr/local/lib/python3.7/dist-packages (from spacy<3.5.0,>=3.4.0->en-core-web-lg==3.4.0) (2.0.8)\n",
            "Requirement already satisfied: jinja2 in /usr/local/lib/python3.7/dist-packages (from spacy<3.5.0,>=3.4.0->en-core-web-lg==3.4.0) (2.11.3)\n",
            "Requirement already satisfied: spacy-loggers<2.0.0,>=1.0.0 in /usr/local/lib/python3.7/dist-packages (from spacy<3.5.0,>=3.4.0->en-core-web-lg==3.4.0) (1.0.3)\n",
            "Requirement already satisfied: typing-extensions<4.2.0,>=3.7.4 in /usr/local/lib/python3.7/dist-packages (from spacy<3.5.0,>=3.4.0->en-core-web-lg==3.4.0) (4.1.1)\n",
            "Requirement already satisfied: wasabi<1.1.0,>=0.9.1 in /usr/local/lib/python3.7/dist-packages (from spacy<3.5.0,>=3.4.0->en-core-web-lg==3.4.0) (0.10.1)\n",
            "Requirement already satisfied: srsly<3.0.0,>=2.4.3 in /usr/local/lib/python3.7/dist-packages (from spacy<3.5.0,>=3.4.0->en-core-web-lg==3.4.0) (2.4.4)\n",
            "Requirement already satisfied: thinc<8.2.0,>=8.1.0 in /usr/local/lib/python3.7/dist-packages (from spacy<3.5.0,>=3.4.0->en-core-web-lg==3.4.0) (8.1.0)\n",
            "Requirement already satisfied: cymem<2.1.0,>=2.0.2 in /usr/local/lib/python3.7/dist-packages (from spacy<3.5.0,>=3.4.0->en-core-web-lg==3.4.0) (2.0.6)\n",
            "Requirement already satisfied: requests<3.0.0,>=2.13.0 in /usr/local/lib/python3.7/dist-packages (from spacy<3.5.0,>=3.4.0->en-core-web-lg==3.4.0) (2.23.0)\n",
            "Requirement already satisfied: packaging>=20.0 in /usr/local/lib/python3.7/dist-packages (from spacy<3.5.0,>=3.4.0->en-core-web-lg==3.4.0) (21.3)\n",
            "Requirement already satisfied: murmurhash<1.1.0,>=0.28.0 in /usr/local/lib/python3.7/dist-packages (from spacy<3.5.0,>=3.4.0->en-core-web-lg==3.4.0) (1.0.8)\n",
            "Requirement already satisfied: preshed<3.1.0,>=3.0.2 in /usr/local/lib/python3.7/dist-packages (from spacy<3.5.0,>=3.4.0->en-core-web-lg==3.4.0) (3.0.7)\n",
            "Requirement already satisfied: tqdm<5.0.0,>=4.38.0 in /usr/local/lib/python3.7/dist-packages (from spacy<3.5.0,>=3.4.0->en-core-web-lg==3.4.0) (4.64.0)\n",
            "Requirement already satisfied: typer<0.5.0,>=0.3.0 in /usr/local/lib/python3.7/dist-packages (from spacy<3.5.0,>=3.4.0->en-core-web-lg==3.4.0) (0.4.2)\n",
            "Requirement already satisfied: spacy-legacy<3.1.0,>=3.0.9 in /usr/local/lib/python3.7/dist-packages (from spacy<3.5.0,>=3.4.0->en-core-web-lg==3.4.0) (3.0.10)\n",
            "Requirement already satisfied: pydantic!=1.8,!=1.8.1,<1.10.0,>=1.7.4 in /usr/local/lib/python3.7/dist-packages (from spacy<3.5.0,>=3.4.0->en-core-web-lg==3.4.0) (1.9.2)\n",
            "Requirement already satisfied: setuptools in /usr/local/lib/python3.7/dist-packages (from spacy<3.5.0,>=3.4.0->en-core-web-lg==3.4.0) (57.4.0)\n",
            "Requirement already satisfied: langcodes<4.0.0,>=3.2.0 in /usr/local/lib/python3.7/dist-packages (from spacy<3.5.0,>=3.4.0->en-core-web-lg==3.4.0) (3.3.0)\n",
            "Requirement already satisfied: numpy>=1.15.0 in /usr/local/lib/python3.7/dist-packages (from spacy<3.5.0,>=3.4.0->en-core-web-lg==3.4.0) (1.21.6)\n",
            "Requirement already satisfied: zipp>=0.5 in /usr/local/lib/python3.7/dist-packages (from catalogue<2.1.0,>=2.0.6->spacy<3.5.0,>=3.4.0->en-core-web-lg==3.4.0) (3.8.1)\n",
            "Requirement already satisfied: pyparsing!=3.0.5,>=2.0.2 in /usr/local/lib/python3.7/dist-packages (from packaging>=20.0->spacy<3.5.0,>=3.4.0->en-core-web-lg==3.4.0) (3.0.9)\n",
            "Requirement already satisfied: smart-open<6.0.0,>=5.2.1 in /usr/local/lib/python3.7/dist-packages (from pathy>=0.3.5->spacy<3.5.0,>=3.4.0->en-core-web-lg==3.4.0) (5.2.1)\n",
            "Requirement already satisfied: urllib3!=1.25.0,!=1.25.1,<1.26,>=1.21.1 in /usr/local/lib/python3.7/dist-packages (from requests<3.0.0,>=2.13.0->spacy<3.5.0,>=3.4.0->en-core-web-lg==3.4.0) (1.24.3)\n",
            "Requirement already satisfied: chardet<4,>=3.0.2 in /usr/local/lib/python3.7/dist-packages (from requests<3.0.0,>=2.13.0->spacy<3.5.0,>=3.4.0->en-core-web-lg==3.4.0) (3.0.4)\n",
            "Requirement already satisfied: certifi>=2017.4.17 in /usr/local/lib/python3.7/dist-packages (from requests<3.0.0,>=2.13.0->spacy<3.5.0,>=3.4.0->en-core-web-lg==3.4.0) (2022.6.15)\n",
            "Requirement already satisfied: idna<3,>=2.5 in /usr/local/lib/python3.7/dist-packages (from requests<3.0.0,>=2.13.0->spacy<3.5.0,>=3.4.0->en-core-web-lg==3.4.0) (2.10)\n",
            "Requirement already satisfied: blis<0.8.0,>=0.7.8 in /usr/local/lib/python3.7/dist-packages (from thinc<8.2.0,>=8.1.0->spacy<3.5.0,>=3.4.0->en-core-web-lg==3.4.0) (0.7.8)\n",
            "Requirement already satisfied: click<9.0.0,>=7.1.1 in /usr/local/lib/python3.7/dist-packages (from typer<0.5.0,>=0.3.0->spacy<3.5.0,>=3.4.0->en-core-web-lg==3.4.0) (7.1.2)\n",
            "Requirement already satisfied: MarkupSafe>=0.23 in /usr/local/lib/python3.7/dist-packages (from jinja2->spacy<3.5.0,>=3.4.0->en-core-web-lg==3.4.0) (2.0.1)\n",
            "\u001b[38;5;2m✔ Download and installation successful\u001b[0m\n",
            "You can now load the package via spacy.load('en_core_web_lg')\n"
          ]
        }
      ]
    },
    {
      "cell_type": "code",
      "source": [
        "\n",
        "from spacy.lang.en.examples import sentences \n",
        "import en_core_web_lg\n",
        "nlp = spacy.load(\"en_core_web_lg\")"
      ],
      "metadata": {
        "id": "WdefUSfl6_Wh"
      },
      "execution_count": 6,
      "outputs": []
    },
    {
      "cell_type": "code",
      "source": [
        "import Python_library.Bayes_Theorem_Pandas_Word_Bag_Heat_Map as pl"
      ],
      "metadata": {
        "colab": {
          "base_uri": "https://localhost:8080/"
        },
        "id": "eORYKNMJkSoR",
        "outputId": "aea082d7-4ed0-4f5b-cd4a-fa044ade7e50"
      },
      "execution_count": 7,
      "outputs": [
        {
          "output_type": "stream",
          "name": "stderr",
          "text": [
            "[nltk_data] Downloading package stopwords to /root/nltk_data...\n",
            "[nltk_data]   Package stopwords is already up-to-date!\n"
          ]
        }
      ]
    },
    {
      "cell_type": "code",
      "metadata": {
        "id": "-SCBQSgJInU7"
      },
      "source": [
        "Otranto_url = 'http://www.gutenberg.org/files/696/696-0.txt'\n",
        "Monk_url = 'https://www.gutenberg.org/files/601/601-0.txt'"
      ],
      "execution_count": 8,
      "outputs": []
    },
    {
      "cell_type": "code",
      "metadata": {
        "id": "OwefgCLTIp-D",
        "colab": {
          "base_uri": "https://localhost:8080/"
        },
        "outputId": "0d36dd1b-4490-4b5c-c845-9a7f79a1508b"
      },
      "source": [
        "!wget {Otranto_url}"
      ],
      "execution_count": 9,
      "outputs": [
        {
          "output_type": "stream",
          "name": "stdout",
          "text": [
            "--2022-08-20 18:03:27--  http://www.gutenberg.org/files/696/696-0.txt\n",
            "Resolving www.gutenberg.org (www.gutenberg.org)... 152.19.134.47, 2610:28:3090:3000:0:bad:cafe:47\n",
            "Connecting to www.gutenberg.org (www.gutenberg.org)|152.19.134.47|:80... connected.\n",
            "HTTP request sent, awaiting response... 302 Found\n",
            "Location: https://www.gutenberg.org/files/696/696-0.txt [following]\n",
            "--2022-08-20 18:03:27--  https://www.gutenberg.org/files/696/696-0.txt\n",
            "Connecting to www.gutenberg.org (www.gutenberg.org)|152.19.134.47|:443... connected.\n",
            "HTTP request sent, awaiting response... 200 OK\n",
            "Length: 240149 (235K) [text/plain]\n",
            "Saving to: ‘696-0.txt.5’\n",
            "\n",
            "696-0.txt.5         100%[===================>] 234.52K  --.-KB/s    in 0.09s   \n",
            "\n",
            "2022-08-20 18:03:27 (2.47 MB/s) - ‘696-0.txt.5’ saved [240149/240149]\n",
            "\n"
          ]
        }
      ]
    },
    {
      "cell_type": "code",
      "metadata": {
        "id": "PQxw2-J5IuL6",
        "colab": {
          "base_uri": "https://localhost:8080/"
        },
        "outputId": "d3438a19-dfc3-4c82-d22d-8f3ba81ad77d"
      },
      "source": [
        "!ls -l"
      ],
      "execution_count": 10,
      "outputs": [
        {
          "output_type": "stream",
          "name": "stdout",
          "text": [
            "total 6296\n",
            "-rw-r--r-- 1 root root 828670 Mar  8  2021 601-0.txt\n",
            "-rw-r--r-- 1 root root 828670 Mar  8  2021 601-0.txt.1\n",
            "-rw-r--r-- 1 root root 828670 Mar  8  2021 601-0.txt.2\n",
            "-rw-r--r-- 1 root root 828670 Mar  8  2021 601-0.txt.3\n",
            "-rw-r--r-- 1 root root 828670 Mar  8  2021 601-0.txt.4\n",
            "-rw-r--r-- 1 root root 828670 Mar  8  2021 601-0.txt.5\n",
            "-rw-r--r-- 1 root root 240149 Apr  9  2021 696-0.txt\n",
            "-rw-r--r-- 1 root root 240149 Apr  9  2021 696-0.txt.1\n",
            "-rw-r--r-- 1 root root 240149 Apr  9  2021 696-0.txt.2\n",
            "-rw-r--r-- 1 root root 240149 Apr  9  2021 696-0.txt.3\n",
            "-rw-r--r-- 1 root root 240149 Apr  9  2021 696-0.txt.4\n",
            "-rw-r--r-- 1 root root 240149 Apr  9  2021 696-0.txt.5\n",
            "drwx------ 5 root root   4096 Aug 20 15:29 gdrive\n",
            "drwxr-xr-x 4 root root   4096 Aug 20 18:03 Python_library\n"
          ]
        }
      ]
    },
    {
      "cell_type": "code",
      "metadata": {
        "id": "yACbwsTjIxha"
      },
      "source": [
        "with open('696-0.txt', 'r') as f:\n",
        "  otranto = f.read()"
      ],
      "execution_count": 11,
      "outputs": []
    },
    {
      "cell_type": "code",
      "source": [
        "otranto.index('SONNET')"
      ],
      "metadata": {
        "colab": {
          "base_uri": "https://localhost:8080/"
        },
        "id": "eQvTP1G5F7GO",
        "outputId": "906fd6e0-ce50-4d51-b42f-707e78547843"
      },
      "execution_count": 12,
      "outputs": [
        {
          "output_type": "execute_result",
          "data": {
            "text/plain": [
              "12178"
            ]
          },
          "metadata": {},
          "execution_count": 12
        }
      ]
    },
    {
      "cell_type": "code",
      "metadata": {
        "id": "kKXCmfX_I1GI"
      },
      "source": [
        "otranto = otranto[6633:]"
      ],
      "execution_count": 13,
      "outputs": []
    },
    {
      "cell_type": "code",
      "metadata": {
        "id": "3TdePp6-I3Zt",
        "colab": {
          "base_uri": "https://localhost:8080/",
          "height": 70
        },
        "outputId": "75978671-cf87-4664-c00b-794ff8bc3fd8"
      },
      "source": [
        "otranto[0:500]"
      ],
      "execution_count": 14,
      "outputs": [
        {
          "output_type": "execute_result",
          "data": {
            "text/plain": [
              "'think that the date of the composition was little antecedent\\nto that of the impression. Letters were then in their most flourishing\\nstate in Italy, and contributed to dispel the empire of superstition, at\\nthat time so forcibly attacked by the reformers. It is not unlikely that\\nan artful priest might endeavour to turn their own arms on the\\ninnovators, and might avail himself of his abilities as an author to\\nconfirm the populace in their ancient errors and superstitions. If this\\nwas his view, he h'"
            ],
            "application/vnd.google.colaboratory.intrinsic+json": {
              "type": "string"
            }
          },
          "metadata": {},
          "execution_count": 14
        }
      ]
    },
    {
      "cell_type": "code",
      "metadata": {
        "id": "HmY14bfdJANK",
        "colab": {
          "base_uri": "https://localhost:8080/"
        },
        "outputId": "2078b64b-92da-471e-b507-621351655dbd"
      },
      "source": [
        "!wget {Monk_url}"
      ],
      "execution_count": 15,
      "outputs": [
        {
          "output_type": "stream",
          "name": "stdout",
          "text": [
            "--2022-08-20 18:03:28--  https://www.gutenberg.org/files/601/601-0.txt\n",
            "Resolving www.gutenberg.org (www.gutenberg.org)... 152.19.134.47, 2610:28:3090:3000:0:bad:cafe:47\n",
            "Connecting to www.gutenberg.org (www.gutenberg.org)|152.19.134.47|:443... connected.\n",
            "HTTP request sent, awaiting response... 200 OK\n",
            "Length: 828670 (809K) [text/plain]\n",
            "Saving to: ‘601-0.txt.6’\n",
            "\n",
            "601-0.txt.6         100%[===================>] 809.25K  --.-KB/s    in 0.1s    \n",
            "\n",
            "2022-08-20 18:03:28 (6.72 MB/s) - ‘601-0.txt.6’ saved [828670/828670]\n",
            "\n"
          ]
        }
      ]
    },
    {
      "cell_type": "code",
      "metadata": {
        "id": "rMYMCMJTJCpz",
        "colab": {
          "base_uri": "https://localhost:8080/"
        },
        "outputId": "be4a34c2-0c99-440f-fcc8-9c0694ca9a5b"
      },
      "source": [
        "!ls -l"
      ],
      "execution_count": 16,
      "outputs": [
        {
          "output_type": "stream",
          "name": "stdout",
          "text": [
            "total 7108\n",
            "-rw-r--r-- 1 root root 828670 Mar  8  2021 601-0.txt\n",
            "-rw-r--r-- 1 root root 828670 Mar  8  2021 601-0.txt.1\n",
            "-rw-r--r-- 1 root root 828670 Mar  8  2021 601-0.txt.2\n",
            "-rw-r--r-- 1 root root 828670 Mar  8  2021 601-0.txt.3\n",
            "-rw-r--r-- 1 root root 828670 Mar  8  2021 601-0.txt.4\n",
            "-rw-r--r-- 1 root root 828670 Mar  8  2021 601-0.txt.5\n",
            "-rw-r--r-- 1 root root 828670 Mar  8  2021 601-0.txt.6\n",
            "-rw-r--r-- 1 root root 240149 Apr  9  2021 696-0.txt\n",
            "-rw-r--r-- 1 root root 240149 Apr  9  2021 696-0.txt.1\n",
            "-rw-r--r-- 1 root root 240149 Apr  9  2021 696-0.txt.2\n",
            "-rw-r--r-- 1 root root 240149 Apr  9  2021 696-0.txt.3\n",
            "-rw-r--r-- 1 root root 240149 Apr  9  2021 696-0.txt.4\n",
            "-rw-r--r-- 1 root root 240149 Apr  9  2021 696-0.txt.5\n",
            "drwx------ 5 root root   4096 Aug 20 15:29 gdrive\n",
            "drwxr-xr-x 4 root root   4096 Aug 20 18:03 Python_library\n"
          ]
        }
      ]
    },
    {
      "cell_type": "code",
      "metadata": {
        "id": "xB8ZPcnaJFRq"
      },
      "source": [
        "with open('601-0.txt', 'r') as f:\n",
        "  monk = f.read()"
      ],
      "execution_count": 17,
      "outputs": []
    },
    {
      "cell_type": "code",
      "metadata": {
        "id": "tv9HeBbhKMY0",
        "colab": {
          "base_uri": "https://localhost:8080/"
        },
        "outputId": "c03f97e6-2965-44c8-8292-fad3f6692e7d"
      },
      "source": [
        "monk.index('Methinks')"
      ],
      "execution_count": 18,
      "outputs": [
        {
          "output_type": "execute_result",
          "data": {
            "text/plain": [
              "1268"
            ]
          },
          "metadata": {},
          "execution_count": 18
        }
      ]
    },
    {
      "cell_type": "code",
      "metadata": {
        "id": "n2_BNG34JHYY"
      },
      "source": [
        "monk = monk[1268:] #attempt to slice off the intro material (it is best to also slice off the Gutenberg.org endnotes, but I do not take that step here)"
      ],
      "execution_count": 19,
      "outputs": []
    },
    {
      "cell_type": "code",
      "metadata": {
        "id": "P6u-zMjMJJu6",
        "colab": {
          "base_uri": "https://localhost:8080/",
          "height": 36
        },
        "outputId": "2bde3e3e-baee-4d47-ad26-4fb7cdf77e69"
      },
      "source": [
        "monk[0:150] # this should show us where we are starting in the text"
      ],
      "execution_count": 20,
      "outputs": [
        {
          "output_type": "execute_result",
          "data": {
            "text/plain": [
              "'Methinks, Oh! vain ill-judging Book,\\nI see thee cast a wishful look,\\nWhere reputations won and lost are\\nIn famous row called Paternoster.\\nIncensed to '"
            ],
            "application/vnd.google.colaboratory.intrinsic+json": {
              "type": "string"
            }
          },
          "metadata": {},
          "execution_count": 20
        }
      ]
    },
    {
      "cell_type": "code",
      "metadata": {
        "id": "4LfEyrunO2su"
      },
      "source": [
        "doc1 = nlp(otranto.lower())"
      ],
      "execution_count": 21,
      "outputs": []
    },
    {
      "cell_type": "code",
      "metadata": {
        "id": "4lrG3MHa2jd1"
      },
      "source": [
        "doc2 = nlp(monk.lower())"
      ],
      "execution_count": 22,
      "outputs": []
    },
    {
      "cell_type": "code",
      "metadata": {
        "id": "4tOc4-1Q0b9u"
      },
      "source": [
        "word_table = pd.DataFrame(columns=['word', 'ML', 'HW'])"
      ],
      "execution_count": 23,
      "outputs": []
    },
    {
      "cell_type": "code",
      "metadata": {
        "id": "wjZdrnYv1v-O"
      },
      "source": [
        "for token in doc1:\n",
        "    if token.is_alpha and not token.is_stop:\n",
        "      pl.update_gothic_row(word_table,token.text,'HW')"
      ],
      "execution_count": 24,
      "outputs": []
    },
    {
      "cell_type": "code",
      "metadata": {
        "id": "HUqP-Rjy5vtC"
      },
      "source": [
        "for token in doc2:\n",
        "    if token.is_alpha and not token.is_stop:\n",
        "      pl.update_gothic_row(word_table,token.text,'ML')"
      ],
      "execution_count": 25,
      "outputs": []
    },
    {
      "cell_type": "code",
      "metadata": {
        "id": "byRIBgfa54LP",
        "colab": {
          "base_uri": "https://localhost:8080/",
          "height": 206
        },
        "outputId": "1d35ccca-e951-422c-a68e-39cf3e8a9ea9"
      },
      "source": [
        "word_table.head()"
      ],
      "execution_count": 26,
      "outputs": [
        {
          "output_type": "execute_result",
          "data": {
            "text/plain": [
              "          word  ML  HW\n",
              "0        think  80  30\n",
              "1         date   2   6\n",
              "2  composition   2   1\n",
              "3       little  99  33\n",
              "4   antecedent   0   1"
            ],
            "text/html": [
              "\n",
              "  <div id=\"df-82a43cf7-1e82-40b3-9b3f-909dba512d99\">\n",
              "    <div class=\"colab-df-container\">\n",
              "      <div>\n",
              "<style scoped>\n",
              "    .dataframe tbody tr th:only-of-type {\n",
              "        vertical-align: middle;\n",
              "    }\n",
              "\n",
              "    .dataframe tbody tr th {\n",
              "        vertical-align: top;\n",
              "    }\n",
              "\n",
              "    .dataframe thead th {\n",
              "        text-align: right;\n",
              "    }\n",
              "</style>\n",
              "<table border=\"1\" class=\"dataframe\">\n",
              "  <thead>\n",
              "    <tr style=\"text-align: right;\">\n",
              "      <th></th>\n",
              "      <th>word</th>\n",
              "      <th>ML</th>\n",
              "      <th>HW</th>\n",
              "    </tr>\n",
              "  </thead>\n",
              "  <tbody>\n",
              "    <tr>\n",
              "      <th>0</th>\n",
              "      <td>think</td>\n",
              "      <td>80</td>\n",
              "      <td>30</td>\n",
              "    </tr>\n",
              "    <tr>\n",
              "      <th>1</th>\n",
              "      <td>date</td>\n",
              "      <td>2</td>\n",
              "      <td>6</td>\n",
              "    </tr>\n",
              "    <tr>\n",
              "      <th>2</th>\n",
              "      <td>composition</td>\n",
              "      <td>2</td>\n",
              "      <td>1</td>\n",
              "    </tr>\n",
              "    <tr>\n",
              "      <th>3</th>\n",
              "      <td>little</td>\n",
              "      <td>99</td>\n",
              "      <td>33</td>\n",
              "    </tr>\n",
              "    <tr>\n",
              "      <th>4</th>\n",
              "      <td>antecedent</td>\n",
              "      <td>0</td>\n",
              "      <td>1</td>\n",
              "    </tr>\n",
              "  </tbody>\n",
              "</table>\n",
              "</div>\n",
              "      <button class=\"colab-df-convert\" onclick=\"convertToInteractive('df-82a43cf7-1e82-40b3-9b3f-909dba512d99')\"\n",
              "              title=\"Convert this dataframe to an interactive table.\"\n",
              "              style=\"display:none;\">\n",
              "        \n",
              "  <svg xmlns=\"http://www.w3.org/2000/svg\" height=\"24px\"viewBox=\"0 0 24 24\"\n",
              "       width=\"24px\">\n",
              "    <path d=\"M0 0h24v24H0V0z\" fill=\"none\"/>\n",
              "    <path d=\"M18.56 5.44l.94 2.06.94-2.06 2.06-.94-2.06-.94-.94-2.06-.94 2.06-2.06.94zm-11 1L8.5 8.5l.94-2.06 2.06-.94-2.06-.94L8.5 2.5l-.94 2.06-2.06.94zm10 10l.94 2.06.94-2.06 2.06-.94-2.06-.94-.94-2.06-.94 2.06-2.06.94z\"/><path d=\"M17.41 7.96l-1.37-1.37c-.4-.4-.92-.59-1.43-.59-.52 0-1.04.2-1.43.59L10.3 9.45l-7.72 7.72c-.78.78-.78 2.05 0 2.83L4 21.41c.39.39.9.59 1.41.59.51 0 1.02-.2 1.41-.59l7.78-7.78 2.81-2.81c.8-.78.8-2.07 0-2.86zM5.41 20L4 18.59l7.72-7.72 1.47 1.35L5.41 20z\"/>\n",
              "  </svg>\n",
              "      </button>\n",
              "      \n",
              "  <style>\n",
              "    .colab-df-container {\n",
              "      display:flex;\n",
              "      flex-wrap:wrap;\n",
              "      gap: 12px;\n",
              "    }\n",
              "\n",
              "    .colab-df-convert {\n",
              "      background-color: #E8F0FE;\n",
              "      border: none;\n",
              "      border-radius: 50%;\n",
              "      cursor: pointer;\n",
              "      display: none;\n",
              "      fill: #1967D2;\n",
              "      height: 32px;\n",
              "      padding: 0 0 0 0;\n",
              "      width: 32px;\n",
              "    }\n",
              "\n",
              "    .colab-df-convert:hover {\n",
              "      background-color: #E2EBFA;\n",
              "      box-shadow: 0px 1px 2px rgba(60, 64, 67, 0.3), 0px 1px 3px 1px rgba(60, 64, 67, 0.15);\n",
              "      fill: #174EA6;\n",
              "    }\n",
              "\n",
              "    [theme=dark] .colab-df-convert {\n",
              "      background-color: #3B4455;\n",
              "      fill: #D2E3FC;\n",
              "    }\n",
              "\n",
              "    [theme=dark] .colab-df-convert:hover {\n",
              "      background-color: #434B5C;\n",
              "      box-shadow: 0px 1px 3px 1px rgba(0, 0, 0, 0.15);\n",
              "      filter: drop-shadow(0px 1px 2px rgba(0, 0, 0, 0.3));\n",
              "      fill: #FFFFFF;\n",
              "    }\n",
              "  </style>\n",
              "\n",
              "      <script>\n",
              "        const buttonEl =\n",
              "          document.querySelector('#df-82a43cf7-1e82-40b3-9b3f-909dba512d99 button.colab-df-convert');\n",
              "        buttonEl.style.display =\n",
              "          google.colab.kernel.accessAllowed ? 'block' : 'none';\n",
              "\n",
              "        async function convertToInteractive(key) {\n",
              "          const element = document.querySelector('#df-82a43cf7-1e82-40b3-9b3f-909dba512d99');\n",
              "          const dataTable =\n",
              "            await google.colab.kernel.invokeFunction('convertToInteractive',\n",
              "                                                     [key], {});\n",
              "          if (!dataTable) return;\n",
              "\n",
              "          const docLinkHtml = 'Like what you see? Visit the ' +\n",
              "            '<a target=\"_blank\" href=https://colab.research.google.com/notebooks/data_table.ipynb>data table notebook</a>'\n",
              "            + ' to learn more about interactive tables.';\n",
              "          element.innerHTML = '';\n",
              "          dataTable['output_type'] = 'display_data';\n",
              "          await google.colab.output.renderOutput(dataTable, element);\n",
              "          const docLink = document.createElement('div');\n",
              "          docLink.innerHTML = docLinkHtml;\n",
              "          element.appendChild(docLink);\n",
              "        }\n",
              "      </script>\n",
              "    </div>\n",
              "  </div>\n",
              "  "
            ]
          },
          "metadata": {},
          "execution_count": 26
        }
      ]
    },
    {
      "cell_type": "code",
      "metadata": {
        "id": "3MYLQQuECywH"
      },
      "source": [
        "sorted_word_table = word_table.sort_values(by=['word'])\n",
        "sorted_word_table = sorted_word_table.reset_index(drop=True)"
      ],
      "execution_count": 27,
      "outputs": []
    },
    {
      "cell_type": "code",
      "metadata": {
        "id": "2bySfWA_C3id",
        "colab": {
          "base_uri": "https://localhost:8080/",
          "height": 237
        },
        "outputId": "92c24f27-1917-4ce5-df12-fb17a74efddf"
      },
      "source": [
        "sorted_word_table = sorted_word_table.set_index('word')\n",
        "sorted_word_table.head()"
      ],
      "execution_count": 28,
      "outputs": [
        {
          "output_type": "execute_result",
          "data": {
            "text/plain": [
              "            ML HW\n",
              "word             \n",
              "abandon     23  2\n",
              "abandoned   32  2\n",
              "abandoning   3  0\n",
              "abated       7  0\n",
              "abbess       2  0"
            ],
            "text/html": [
              "\n",
              "  <div id=\"df-00bed23c-bf8c-4d55-8874-b397f8fe919a\">\n",
              "    <div class=\"colab-df-container\">\n",
              "      <div>\n",
              "<style scoped>\n",
              "    .dataframe tbody tr th:only-of-type {\n",
              "        vertical-align: middle;\n",
              "    }\n",
              "\n",
              "    .dataframe tbody tr th {\n",
              "        vertical-align: top;\n",
              "    }\n",
              "\n",
              "    .dataframe thead th {\n",
              "        text-align: right;\n",
              "    }\n",
              "</style>\n",
              "<table border=\"1\" class=\"dataframe\">\n",
              "  <thead>\n",
              "    <tr style=\"text-align: right;\">\n",
              "      <th></th>\n",
              "      <th>ML</th>\n",
              "      <th>HW</th>\n",
              "    </tr>\n",
              "    <tr>\n",
              "      <th>word</th>\n",
              "      <th></th>\n",
              "      <th></th>\n",
              "    </tr>\n",
              "  </thead>\n",
              "  <tbody>\n",
              "    <tr>\n",
              "      <th>abandon</th>\n",
              "      <td>23</td>\n",
              "      <td>2</td>\n",
              "    </tr>\n",
              "    <tr>\n",
              "      <th>abandoned</th>\n",
              "      <td>32</td>\n",
              "      <td>2</td>\n",
              "    </tr>\n",
              "    <tr>\n",
              "      <th>abandoning</th>\n",
              "      <td>3</td>\n",
              "      <td>0</td>\n",
              "    </tr>\n",
              "    <tr>\n",
              "      <th>abated</th>\n",
              "      <td>7</td>\n",
              "      <td>0</td>\n",
              "    </tr>\n",
              "    <tr>\n",
              "      <th>abbess</th>\n",
              "      <td>2</td>\n",
              "      <td>0</td>\n",
              "    </tr>\n",
              "  </tbody>\n",
              "</table>\n",
              "</div>\n",
              "      <button class=\"colab-df-convert\" onclick=\"convertToInteractive('df-00bed23c-bf8c-4d55-8874-b397f8fe919a')\"\n",
              "              title=\"Convert this dataframe to an interactive table.\"\n",
              "              style=\"display:none;\">\n",
              "        \n",
              "  <svg xmlns=\"http://www.w3.org/2000/svg\" height=\"24px\"viewBox=\"0 0 24 24\"\n",
              "       width=\"24px\">\n",
              "    <path d=\"M0 0h24v24H0V0z\" fill=\"none\"/>\n",
              "    <path d=\"M18.56 5.44l.94 2.06.94-2.06 2.06-.94-2.06-.94-.94-2.06-.94 2.06-2.06.94zm-11 1L8.5 8.5l.94-2.06 2.06-.94-2.06-.94L8.5 2.5l-.94 2.06-2.06.94zm10 10l.94 2.06.94-2.06 2.06-.94-2.06-.94-.94-2.06-.94 2.06-2.06.94z\"/><path d=\"M17.41 7.96l-1.37-1.37c-.4-.4-.92-.59-1.43-.59-.52 0-1.04.2-1.43.59L10.3 9.45l-7.72 7.72c-.78.78-.78 2.05 0 2.83L4 21.41c.39.39.9.59 1.41.59.51 0 1.02-.2 1.41-.59l7.78-7.78 2.81-2.81c.8-.78.8-2.07 0-2.86zM5.41 20L4 18.59l7.72-7.72 1.47 1.35L5.41 20z\"/>\n",
              "  </svg>\n",
              "      </button>\n",
              "      \n",
              "  <style>\n",
              "    .colab-df-container {\n",
              "      display:flex;\n",
              "      flex-wrap:wrap;\n",
              "      gap: 12px;\n",
              "    }\n",
              "\n",
              "    .colab-df-convert {\n",
              "      background-color: #E8F0FE;\n",
              "      border: none;\n",
              "      border-radius: 50%;\n",
              "      cursor: pointer;\n",
              "      display: none;\n",
              "      fill: #1967D2;\n",
              "      height: 32px;\n",
              "      padding: 0 0 0 0;\n",
              "      width: 32px;\n",
              "    }\n",
              "\n",
              "    .colab-df-convert:hover {\n",
              "      background-color: #E2EBFA;\n",
              "      box-shadow: 0px 1px 2px rgba(60, 64, 67, 0.3), 0px 1px 3px 1px rgba(60, 64, 67, 0.15);\n",
              "      fill: #174EA6;\n",
              "    }\n",
              "\n",
              "    [theme=dark] .colab-df-convert {\n",
              "      background-color: #3B4455;\n",
              "      fill: #D2E3FC;\n",
              "    }\n",
              "\n",
              "    [theme=dark] .colab-df-convert:hover {\n",
              "      background-color: #434B5C;\n",
              "      box-shadow: 0px 1px 3px 1px rgba(0, 0, 0, 0.15);\n",
              "      filter: drop-shadow(0px 1px 2px rgba(0, 0, 0, 0.3));\n",
              "      fill: #FFFFFF;\n",
              "    }\n",
              "  </style>\n",
              "\n",
              "      <script>\n",
              "        const buttonEl =\n",
              "          document.querySelector('#df-00bed23c-bf8c-4d55-8874-b397f8fe919a button.colab-df-convert');\n",
              "        buttonEl.style.display =\n",
              "          google.colab.kernel.accessAllowed ? 'block' : 'none';\n",
              "\n",
              "        async function convertToInteractive(key) {\n",
              "          const element = document.querySelector('#df-00bed23c-bf8c-4d55-8874-b397f8fe919a');\n",
              "          const dataTable =\n",
              "            await google.colab.kernel.invokeFunction('convertToInteractive',\n",
              "                                                     [key], {});\n",
              "          if (!dataTable) return;\n",
              "\n",
              "          const docLinkHtml = 'Like what you see? Visit the ' +\n",
              "            '<a target=\"_blank\" href=https://colab.research.google.com/notebooks/data_table.ipynb>data table notebook</a>'\n",
              "            + ' to learn more about interactive tables.';\n",
              "          element.innerHTML = '';\n",
              "          dataTable['output_type'] = 'display_data';\n",
              "          await google.colab.output.renderOutput(dataTable, element);\n",
              "          const docLink = document.createElement('div');\n",
              "          docLink.innerHTML = docLinkHtml;\n",
              "          element.appendChild(docLink);\n",
              "        }\n",
              "      </script>\n",
              "    </div>\n",
              "  </div>\n",
              "  "
            ]
          },
          "metadata": {},
          "execution_count": 28
        }
      ]
    },
    {
      "cell_type": "code",
      "metadata": {
        "id": "VcccF-G7FmDL",
        "colab": {
          "base_uri": "https://localhost:8080/"
        },
        "outputId": "fdf698c3-bc7e-4440-e233-aa8eda3d42c1"
      },
      "source": [
        "from google.colab import drive\n",
        "drive.mount('/content/gdrive')"
      ],
      "execution_count": 29,
      "outputs": [
        {
          "output_type": "stream",
          "name": "stdout",
          "text": [
            "Drive already mounted at /content/gdrive; to attempt to forcibly remount, call drive.mount(\"/content/gdrive\", force_remount=True).\n"
          ]
        }
      ]
    },
    {
      "cell_type": "code",
      "metadata": {
        "id": "aa4D5hcY1LG2"
      },
      "source": [
        "with open('gdrive/My Drive/FinalWordBag.csv', 'w') as file:\n",
        "    sorted_word_table.to_csv(file, index=True)"
      ],
      "execution_count": 30,
      "outputs": []
    },
    {
      "cell_type": "code",
      "metadata": {
        "id": "b-erul381LTC"
      },
      "source": [
        "with open('gdrive/My Drive/FinalWordBag.csv', 'r') as file:\n",
        "    sorted_word_table = pd.read_csv(file, dtype={'word':str}, encoding='utf-8',\n",
        "                                    index_col='word', na_filter=False)"
      ],
      "execution_count": 31,
      "outputs": []
    },
    {
      "cell_type": "code",
      "metadata": {
        "id": "Vu-w73kkEWPM",
        "colab": {
          "base_uri": "https://localhost:8080/"
        },
        "outputId": "63acff8c-496e-494d-9ea1-55da817c1618"
      },
      "source": [
        "sorted_word_table.loc['women', 'ML'] "
      ],
      "execution_count": 32,
      "outputs": [
        {
          "output_type": "execute_result",
          "data": {
            "text/plain": [
              "23"
            ]
          },
          "metadata": {},
          "execution_count": 32
        }
      ]
    },
    {
      "cell_type": "code",
      "metadata": {
        "id": "3IjY9Is7LICz",
        "colab": {
          "base_uri": "https://localhost:8080/",
          "height": 206
        },
        "outputId": "4fd95a4c-e0b0-4757-f555-a0a69f32a870"
      },
      "source": [
        "sorted_word_table[3746:3750]"
      ],
      "execution_count": 33,
      "outputs": [
        {
          "output_type": "execute_result",
          "data": {
            "text/plain": [
              "         ML  HW\n",
              "word           \n",
              "ghastly   1   1\n",
              "ghost    51   7\n",
              "ghostly   2   0\n",
              "ghosts    7   1"
            ],
            "text/html": [
              "\n",
              "  <div id=\"df-76ad6ef6-50e3-46ed-a1fc-390c6777cd37\">\n",
              "    <div class=\"colab-df-container\">\n",
              "      <div>\n",
              "<style scoped>\n",
              "    .dataframe tbody tr th:only-of-type {\n",
              "        vertical-align: middle;\n",
              "    }\n",
              "\n",
              "    .dataframe tbody tr th {\n",
              "        vertical-align: top;\n",
              "    }\n",
              "\n",
              "    .dataframe thead th {\n",
              "        text-align: right;\n",
              "    }\n",
              "</style>\n",
              "<table border=\"1\" class=\"dataframe\">\n",
              "  <thead>\n",
              "    <tr style=\"text-align: right;\">\n",
              "      <th></th>\n",
              "      <th>ML</th>\n",
              "      <th>HW</th>\n",
              "    </tr>\n",
              "    <tr>\n",
              "      <th>word</th>\n",
              "      <th></th>\n",
              "      <th></th>\n",
              "    </tr>\n",
              "  </thead>\n",
              "  <tbody>\n",
              "    <tr>\n",
              "      <th>ghastly</th>\n",
              "      <td>1</td>\n",
              "      <td>1</td>\n",
              "    </tr>\n",
              "    <tr>\n",
              "      <th>ghost</th>\n",
              "      <td>51</td>\n",
              "      <td>7</td>\n",
              "    </tr>\n",
              "    <tr>\n",
              "      <th>ghostly</th>\n",
              "      <td>2</td>\n",
              "      <td>0</td>\n",
              "    </tr>\n",
              "    <tr>\n",
              "      <th>ghosts</th>\n",
              "      <td>7</td>\n",
              "      <td>1</td>\n",
              "    </tr>\n",
              "  </tbody>\n",
              "</table>\n",
              "</div>\n",
              "      <button class=\"colab-df-convert\" onclick=\"convertToInteractive('df-76ad6ef6-50e3-46ed-a1fc-390c6777cd37')\"\n",
              "              title=\"Convert this dataframe to an interactive table.\"\n",
              "              style=\"display:none;\">\n",
              "        \n",
              "  <svg xmlns=\"http://www.w3.org/2000/svg\" height=\"24px\"viewBox=\"0 0 24 24\"\n",
              "       width=\"24px\">\n",
              "    <path d=\"M0 0h24v24H0V0z\" fill=\"none\"/>\n",
              "    <path d=\"M18.56 5.44l.94 2.06.94-2.06 2.06-.94-2.06-.94-.94-2.06-.94 2.06-2.06.94zm-11 1L8.5 8.5l.94-2.06 2.06-.94-2.06-.94L8.5 2.5l-.94 2.06-2.06.94zm10 10l.94 2.06.94-2.06 2.06-.94-2.06-.94-.94-2.06-.94 2.06-2.06.94z\"/><path d=\"M17.41 7.96l-1.37-1.37c-.4-.4-.92-.59-1.43-.59-.52 0-1.04.2-1.43.59L10.3 9.45l-7.72 7.72c-.78.78-.78 2.05 0 2.83L4 21.41c.39.39.9.59 1.41.59.51 0 1.02-.2 1.41-.59l7.78-7.78 2.81-2.81c.8-.78.8-2.07 0-2.86zM5.41 20L4 18.59l7.72-7.72 1.47 1.35L5.41 20z\"/>\n",
              "  </svg>\n",
              "      </button>\n",
              "      \n",
              "  <style>\n",
              "    .colab-df-container {\n",
              "      display:flex;\n",
              "      flex-wrap:wrap;\n",
              "      gap: 12px;\n",
              "    }\n",
              "\n",
              "    .colab-df-convert {\n",
              "      background-color: #E8F0FE;\n",
              "      border: none;\n",
              "      border-radius: 50%;\n",
              "      cursor: pointer;\n",
              "      display: none;\n",
              "      fill: #1967D2;\n",
              "      height: 32px;\n",
              "      padding: 0 0 0 0;\n",
              "      width: 32px;\n",
              "    }\n",
              "\n",
              "    .colab-df-convert:hover {\n",
              "      background-color: #E2EBFA;\n",
              "      box-shadow: 0px 1px 2px rgba(60, 64, 67, 0.3), 0px 1px 3px 1px rgba(60, 64, 67, 0.15);\n",
              "      fill: #174EA6;\n",
              "    }\n",
              "\n",
              "    [theme=dark] .colab-df-convert {\n",
              "      background-color: #3B4455;\n",
              "      fill: #D2E3FC;\n",
              "    }\n",
              "\n",
              "    [theme=dark] .colab-df-convert:hover {\n",
              "      background-color: #434B5C;\n",
              "      box-shadow: 0px 1px 3px 1px rgba(0, 0, 0, 0.15);\n",
              "      filter: drop-shadow(0px 1px 2px rgba(0, 0, 0, 0.3));\n",
              "      fill: #FFFFFF;\n",
              "    }\n",
              "  </style>\n",
              "\n",
              "      <script>\n",
              "        const buttonEl =\n",
              "          document.querySelector('#df-76ad6ef6-50e3-46ed-a1fc-390c6777cd37 button.colab-df-convert');\n",
              "        buttonEl.style.display =\n",
              "          google.colab.kernel.accessAllowed ? 'block' : 'none';\n",
              "\n",
              "        async function convertToInteractive(key) {\n",
              "          const element = document.querySelector('#df-76ad6ef6-50e3-46ed-a1fc-390c6777cd37');\n",
              "          const dataTable =\n",
              "            await google.colab.kernel.invokeFunction('convertToInteractive',\n",
              "                                                     [key], {});\n",
              "          if (!dataTable) return;\n",
              "\n",
              "          const docLinkHtml = 'Like what you see? Visit the ' +\n",
              "            '<a target=\"_blank\" href=https://colab.research.google.com/notebooks/data_table.ipynb>data table notebook</a>'\n",
              "            + ' to learn more about interactive tables.';\n",
              "          element.innerHTML = '';\n",
              "          dataTable['output_type'] = 'display_data';\n",
              "          await google.colab.output.renderOutput(dataTable, element);\n",
              "          const docLink = document.createElement('div');\n",
              "          docLink.innerHTML = docLinkHtml;\n",
              "          element.appendChild(docLink);\n",
              "        }\n",
              "      </script>\n",
              "    </div>\n",
              "  </div>\n",
              "  "
            ]
          },
          "metadata": {},
          "execution_count": 33
        }
      ]
    },
    {
      "cell_type": "markdown",
      "metadata": {
        "id": "PylDz8j9SofU"
      },
      "source": [
        "* ML:53 instances of ghost or ghostly\n",
        "* HW: 7 instances of ghost or ghostly"
      ]
    },
    {
      "cell_type": "code",
      "metadata": {
        "id": "yUQ4-1fFNk4r",
        "colab": {
          "base_uri": "https://localhost:8080/",
          "height": 206
        },
        "outputId": "3b2f55f0-80c6-44ac-9fe6-3964dfcbdf1a"
      },
      "source": [
        "sorted_word_table[9442:9446]"
      ],
      "execution_count": 34,
      "outputs": [
        {
          "output_type": "execute_result",
          "data": {
            "text/plain": [
              "          ML  HW\n",
              "word            \n",
              "woman     91  16\n",
              "womanish   0   2\n",
              "womanly    0   1\n",
              "women     23   7"
            ],
            "text/html": [
              "\n",
              "  <div id=\"df-cc50e54c-6c7e-4646-95ac-1fff2190df4e\">\n",
              "    <div class=\"colab-df-container\">\n",
              "      <div>\n",
              "<style scoped>\n",
              "    .dataframe tbody tr th:only-of-type {\n",
              "        vertical-align: middle;\n",
              "    }\n",
              "\n",
              "    .dataframe tbody tr th {\n",
              "        vertical-align: top;\n",
              "    }\n",
              "\n",
              "    .dataframe thead th {\n",
              "        text-align: right;\n",
              "    }\n",
              "</style>\n",
              "<table border=\"1\" class=\"dataframe\">\n",
              "  <thead>\n",
              "    <tr style=\"text-align: right;\">\n",
              "      <th></th>\n",
              "      <th>ML</th>\n",
              "      <th>HW</th>\n",
              "    </tr>\n",
              "    <tr>\n",
              "      <th>word</th>\n",
              "      <th></th>\n",
              "      <th></th>\n",
              "    </tr>\n",
              "  </thead>\n",
              "  <tbody>\n",
              "    <tr>\n",
              "      <th>woman</th>\n",
              "      <td>91</td>\n",
              "      <td>16</td>\n",
              "    </tr>\n",
              "    <tr>\n",
              "      <th>womanish</th>\n",
              "      <td>0</td>\n",
              "      <td>2</td>\n",
              "    </tr>\n",
              "    <tr>\n",
              "      <th>womanly</th>\n",
              "      <td>0</td>\n",
              "      <td>1</td>\n",
              "    </tr>\n",
              "    <tr>\n",
              "      <th>women</th>\n",
              "      <td>23</td>\n",
              "      <td>7</td>\n",
              "    </tr>\n",
              "  </tbody>\n",
              "</table>\n",
              "</div>\n",
              "      <button class=\"colab-df-convert\" onclick=\"convertToInteractive('df-cc50e54c-6c7e-4646-95ac-1fff2190df4e')\"\n",
              "              title=\"Convert this dataframe to an interactive table.\"\n",
              "              style=\"display:none;\">\n",
              "        \n",
              "  <svg xmlns=\"http://www.w3.org/2000/svg\" height=\"24px\"viewBox=\"0 0 24 24\"\n",
              "       width=\"24px\">\n",
              "    <path d=\"M0 0h24v24H0V0z\" fill=\"none\"/>\n",
              "    <path d=\"M18.56 5.44l.94 2.06.94-2.06 2.06-.94-2.06-.94-.94-2.06-.94 2.06-2.06.94zm-11 1L8.5 8.5l.94-2.06 2.06-.94-2.06-.94L8.5 2.5l-.94 2.06-2.06.94zm10 10l.94 2.06.94-2.06 2.06-.94-2.06-.94-.94-2.06-.94 2.06-2.06.94z\"/><path d=\"M17.41 7.96l-1.37-1.37c-.4-.4-.92-.59-1.43-.59-.52 0-1.04.2-1.43.59L10.3 9.45l-7.72 7.72c-.78.78-.78 2.05 0 2.83L4 21.41c.39.39.9.59 1.41.59.51 0 1.02-.2 1.41-.59l7.78-7.78 2.81-2.81c.8-.78.8-2.07 0-2.86zM5.41 20L4 18.59l7.72-7.72 1.47 1.35L5.41 20z\"/>\n",
              "  </svg>\n",
              "      </button>\n",
              "      \n",
              "  <style>\n",
              "    .colab-df-container {\n",
              "      display:flex;\n",
              "      flex-wrap:wrap;\n",
              "      gap: 12px;\n",
              "    }\n",
              "\n",
              "    .colab-df-convert {\n",
              "      background-color: #E8F0FE;\n",
              "      border: none;\n",
              "      border-radius: 50%;\n",
              "      cursor: pointer;\n",
              "      display: none;\n",
              "      fill: #1967D2;\n",
              "      height: 32px;\n",
              "      padding: 0 0 0 0;\n",
              "      width: 32px;\n",
              "    }\n",
              "\n",
              "    .colab-df-convert:hover {\n",
              "      background-color: #E2EBFA;\n",
              "      box-shadow: 0px 1px 2px rgba(60, 64, 67, 0.3), 0px 1px 3px 1px rgba(60, 64, 67, 0.15);\n",
              "      fill: #174EA6;\n",
              "    }\n",
              "\n",
              "    [theme=dark] .colab-df-convert {\n",
              "      background-color: #3B4455;\n",
              "      fill: #D2E3FC;\n",
              "    }\n",
              "\n",
              "    [theme=dark] .colab-df-convert:hover {\n",
              "      background-color: #434B5C;\n",
              "      box-shadow: 0px 1px 3px 1px rgba(0, 0, 0, 0.15);\n",
              "      filter: drop-shadow(0px 1px 2px rgba(0, 0, 0, 0.3));\n",
              "      fill: #FFFFFF;\n",
              "    }\n",
              "  </style>\n",
              "\n",
              "      <script>\n",
              "        const buttonEl =\n",
              "          document.querySelector('#df-cc50e54c-6c7e-4646-95ac-1fff2190df4e button.colab-df-convert');\n",
              "        buttonEl.style.display =\n",
              "          google.colab.kernel.accessAllowed ? 'block' : 'none';\n",
              "\n",
              "        async function convertToInteractive(key) {\n",
              "          const element = document.querySelector('#df-cc50e54c-6c7e-4646-95ac-1fff2190df4e');\n",
              "          const dataTable =\n",
              "            await google.colab.kernel.invokeFunction('convertToInteractive',\n",
              "                                                     [key], {});\n",
              "          if (!dataTable) return;\n",
              "\n",
              "          const docLinkHtml = 'Like what you see? Visit the ' +\n",
              "            '<a target=\"_blank\" href=https://colab.research.google.com/notebooks/data_table.ipynb>data table notebook</a>'\n",
              "            + ' to learn more about interactive tables.';\n",
              "          element.innerHTML = '';\n",
              "          dataTable['output_type'] = 'display_data';\n",
              "          await google.colab.output.renderOutput(dataTable, element);\n",
              "          const docLink = document.createElement('div');\n",
              "          docLink.innerHTML = docLinkHtml;\n",
              "          element.appendChild(docLink);\n",
              "        }\n",
              "      </script>\n",
              "    </div>\n",
              "  </div>\n",
              "  "
            ]
          },
          "metadata": {},
          "execution_count": 34
        }
      ]
    },
    {
      "cell_type": "markdown",
      "metadata": {
        "id": "Y_YhzAasS4bi"
      },
      "source": [
        "* ML: 114 instances of the word woman and its variations\n",
        "* HW: 26 instances of the word woman and its variations "
      ]
    },
    {
      "cell_type": "markdown",
      "metadata": {
        "id": "T5VNnpdhTZKw"
      },
      "source": [
        "* ML: 134 instances of the word man and its variations compared to the 114 for women\n",
        "* HW: 87 instances of the word man and its variations compared to the 26\n"
      ]
    },
    {
      "cell_type": "markdown",
      "metadata": {
        "id": "fD8jKZP7UWRB"
      },
      "source": [
        "* ML:52 instances of ghost or ghostly \n",
        "* HW: 7 instances of ghost or ghostly\n",
        "\n",
        "\n",
        "In Horace Walpole's novel *The Castle of Otranto*, there are only 19 more instances of women than ghosts, and in Mathew Lewis' novel *The Monk*, there are 62 more instances of the subject of women over that of ghosts. \n",
        "\n",
        "But what does that mean? \n",
        "Maybe nothing. \n",
        "Let's explore further with word-embedding and sentence vectors. **I am curious if ghosts and women are talked about in similar ways (as an objectified other)**  "
      ]
    },
    {
      "cell_type": "markdown",
      "metadata": {
        "id": "ApO49vgYW9KT"
      },
      "source": [
        "# Part Two: \n",
        "\n",
        "Vector functions and matrix loops in a word-embedding algorithm to further explore the novels' words of interest within the world of sentences. "
      ]
    },
    {
      "cell_type": "code",
      "metadata": {
        "id": "pQOEW6eEbFrh"
      },
      "source": [
        "otranto_sentences = list(doc1.sents)"
      ],
      "execution_count": 35,
      "outputs": []
    },
    {
      "cell_type": "code",
      "metadata": {
        "id": "wlP9vq3R2vLN"
      },
      "source": [
        "monk_sentences = list(doc2.sents)"
      ],
      "execution_count": 36,
      "outputs": []
    },
    {
      "cell_type": "code",
      "metadata": {
        "id": "KQ3ow8fLD4GT"
      },
      "source": [
        "sent_table = pd.DataFrame(columns=['Sent', 'ML', 'HW'])"
      ],
      "execution_count": 37,
      "outputs": []
    },
    {
      "cell_type": "code",
      "metadata": {
        "id": "TjKjimYOD5r1"
      },
      "source": [
        "#for i in range (len(otranto_sentences)):\n",
        "    #pl.update_gothic_row_sent(sent_table,doc1.sents,'HW')\n",
        "#Experimental cell"
      ],
      "execution_count": 38,
      "outputs": []
    },
    {
      "cell_type": "code",
      "metadata": {
        "id": "kTaCPMe8D53t"
      },
      "source": [
        "#for i in range (len(monk_sentences)):\n",
        "    #pl.update_gothic_row_sent(sent_table,doc2.sents,'ML')\n",
        "#Experimental cell"
      ],
      "execution_count": 39,
      "outputs": []
    },
    {
      "cell_type": "code",
      "metadata": {
        "id": "q-tMTI-IUN3F"
      },
      "source": [
        "#sent_table.head()\n",
        "#Experimental cell"
      ],
      "execution_count": 40,
      "outputs": []
    },
    {
      "cell_type": "code",
      "metadata": {
        "id": "ChCppLQpFcBr"
      },
      "source": [
        "otranto_matrix = []\n",
        "\n",
        "for i in range(len(otranto_sentences)): \n",
        "  sentence = otranto_sentences[i]\n",
        "  vec = pl.sent2vec(sentence.text)\n",
        "  otranto_matrix.append(vec)"
      ],
      "execution_count": 41,
      "outputs": []
    },
    {
      "cell_type": "code",
      "source": [
        "nlp.vocab.has_vector('barrier') #you can check to see if there is data to work with on specific words"
      ],
      "metadata": {
        "colab": {
          "base_uri": "https://localhost:8080/"
        },
        "id": "LYa-ZpFPvC2P",
        "outputId": "9d488dab-38ea-402c-b2a1-0e4f6d4196a3"
      },
      "execution_count": 42,
      "outputs": [
        {
          "output_type": "execute_result",
          "data": {
            "text/plain": [
              "True"
            ]
          },
          "metadata": {},
          "execution_count": 42
        }
      ]
    },
    {
      "cell_type": "code",
      "metadata": {
        "id": "_1UfVrzrFrbU"
      },
      "source": [
        "monk_matrix = []\n",
        "\n",
        "for i in range(len(monk_sentences)):  \n",
        "  sentence = monk_sentences[i]\n",
        "  vec = pl.sent2vec(sentence.text)\n",
        "  monk_matrix.append(vec)"
      ],
      "execution_count": 43,
      "outputs": []
    },
    {
      "cell_type": "code",
      "metadata": {
        "id": "YS3Q0G-8FuvR"
      },
      "source": [
        "test_sentence = \"ghosts and women haunt and watch\""
      ],
      "execution_count": 44,
      "outputs": []
    },
    {
      "cell_type": "code",
      "metadata": {
        "id": "Vpj_3vhLF1uw"
      },
      "source": [
        "input_vec = pl.sent2vec(test_sentence)"
      ],
      "execution_count": 45,
      "outputs": []
    },
    {
      "cell_type": "code",
      "metadata": {
        "id": "Yb7yvY5EFmEW",
        "colab": {
          "base_uri": "https://localhost:8080/"
        },
        "outputId": "1c27dead-c651-44df-fe5b-5f353c1d5035"
      },
      "source": [
        "nlp.vocab.has_vector('subjects')"
      ],
      "execution_count": 46,
      "outputs": [
        {
          "output_type": "execute_result",
          "data": {
            "text/plain": [
              "True"
            ]
          },
          "metadata": {},
          "execution_count": 46
        }
      ]
    },
    {
      "cell_type": "code",
      "metadata": {
        "id": "Ou8cwSS_OMnD"
      },
      "source": [
        "import numpy as np"
      ],
      "execution_count": 47,
      "outputs": []
    },
    {
      "cell_type": "code",
      "metadata": {
        "id": "O9VKZbb9GjyO"
      },
      "source": [
        "ordered_distances_otranto = []\n",
        "\n",
        "for i in range(len(otranto_matrix)):\n",
        "  vec = otranto_matrix[i]\n",
        "  d = pl.fast_cosine(np.array(input_vec), np.array(vec))\n",
        "  ordered_distances_otranto.append([d, i])"
      ],
      "execution_count": 48,
      "outputs": []
    },
    {
      "cell_type": "code",
      "metadata": {
        "id": "o8QuCwMhGkHo",
        "colab": {
          "base_uri": "https://localhost:8080/"
        },
        "outputId": "772b5487-5eb7-49f7-ca41-44781390760c"
      },
      "source": [
        "for d,j in sorted(ordered_distances_otranto, reverse=True)[:10]:\n",
        "  print(otranto_sentences[j])\n",
        "  print('~~~~~~~~~~~~~~~~~~~~~~~~~~~~~~~~~~~~')\n"
      ],
      "execution_count": 49,
      "outputs": [
        {
          "output_type": "stream",
          "name": "stdout",
          "text": [
            "he does not\n",
            "know you, but takes you for one of my lady hippolita’s women.”\n",
            "~~~~~~~~~~~~~~~~~~~~~~~~~~~~~~~~~~~~\n",
            "but there is my lady isabella would not be so reserved to me: she will\n",
            "let me talk to her of young men: and when a handsome cavalier has come to\n",
            "the castle, she has owned to me that she wished your brother conrad\n",
            "resembled him.”\n",
            "~~~~~~~~~~~~~~~~~~~~~~~~~~~~~~~~~~~~\n",
            "come, be a good girl and tell me; is there\n",
            "any young man—ha!—you understand me.”\n",
            "~~~~~~~~~~~~~~~~~~~~~~~~~~~~~~~~~~~~\n",
            "not one of us your highness’s faithful servants—indeed\n",
            "we are, my lord, though poor men—i say, not one of us has dared to set a\n",
            "foot about the castle, but two together: so diego and i, thinking that my\n",
            "young lady might be in the great gallery, went up there to look for her,\n",
            "and tell her your highness wanted something to impart to her.”\n",
            "~~~~~~~~~~~~~~~~~~~~~~~~~~~~~~~~~~~~\n",
            "what could a friendless, helpless woman do?\n",
            "~~~~~~~~~~~~~~~~~~~~~~~~~~~~~~~~~~~~\n",
            "dear lady, i would not speak to a ghost for the world!”\n",
            "~~~~~~~~~~~~~~~~~~~~~~~~~~~~~~~~~~~~\n",
            "the company had no sooner quitted the castle than matilda, who felt\n",
            "herself deeply interested for the young peasant, since she had seen him\n",
            "condemned to death in the hall, and whose thoughts had been taken up with\n",
            "concerting measures to save him, was informed by some of the female\n",
            "attendants that manfred had despatched all his men various ways in\n",
            "pursuit of isabella.\n",
            "~~~~~~~~~~~~~~~~~~~~~~~~~~~~~~~~~~~~\n",
            "i boast not of my family, nor think of such\n",
            "vanities—it is nature, that pleads for this boy; it is the memory of the\n",
            "dear woman that bore him.\n",
            "~~~~~~~~~~~~~~~~~~~~~~~~~~~~~~~~~~~~\n",
            "\n",
            "\n",
            "in the meantime, the care and zeal of the young ladies had brought the\n",
            "princess hippolita to herself, who amidst the transports of her own\n",
            "sorrow frequently demanded news of her lord, would have dismissed her\n",
            "attendants to watch over him, and at last enjoined matilda to leave her,\n",
            "and visit and comfort her father.\n",
            "~~~~~~~~~~~~~~~~~~~~~~~~~~~~~~~~~~~~\n",
            "“what right have we\n",
            "to pry into the secrets of this young man’s heart?\n",
            "~~~~~~~~~~~~~~~~~~~~~~~~~~~~~~~~~~~~\n"
          ]
        }
      ]
    },
    {
      "cell_type": "code",
      "metadata": {
        "id": "h0FNcJOkGkVE"
      },
      "source": [
        "ordered_distances_monk = []\n",
        "\n",
        "for i in range(len(monk_matrix)):\n",
        "  vec = monk_matrix[i]\n",
        "  d = pl.fast_cosine(np.array(input_vec), np.array(vec))\n",
        "  ordered_distances_monk.append([d, i])"
      ],
      "execution_count": 50,
      "outputs": []
    },
    {
      "cell_type": "code",
      "metadata": {
        "id": "JF714_wOGkjt",
        "colab": {
          "base_uri": "https://localhost:8080/"
        },
        "outputId": "66e12246-1dca-4628-ab4d-3eeb78baa8f1"
      },
      "source": [
        "for d,j in sorted(ordered_distances_monk, reverse=True)[:10]:\n",
        "  print(monk_sentences[j])\n",
        "  print('~~~~~~~~~~~~~~~~~~~~~~~~~~~~~~~~~~~~')"
      ],
      "execution_count": 51,
      "outputs": [
        {
          "output_type": "stream",
          "name": "stdout",
          "text": [
            "are you not infamous in\n",
            "the eyes of men and angels.\n",
            "~~~~~~~~~~~~~~~~~~~~~~~~~~~~~~~~~~~~\n",
            "then will come your mother’s ghost,\n",
            "and hurl me down into the dwellings of fiends, and flames, and furies,\n",
            "and everlasting torments!\n",
            "~~~~~~~~~~~~~~~~~~~~~~~~~~~~~~~~~~~~\n",
            "dare you\n",
            "spring without fear over the bounds which separate men from angels?—you\n",
            "are silent.—you look upon me with eyes of suspicion and alarm—i read\n",
            "your thoughts and confess their justice.\n",
            "~~~~~~~~~~~~~~~~~~~~~~~~~~~~~~~~~~~~\n",
            "i am\n",
            "the most unfortunate woman alive!\n",
            "~~~~~~~~~~~~~~~~~~~~~~~~~~~~~~~~~~~~\n",
            "amidst these\n",
            "dismal scenes wandered the ghosts of elvira and her daughter.\n",
            "~~~~~~~~~~~~~~~~~~~~~~~~~~~~~~~~~~~~\n",
            "throw from you these terrors so\n",
            "ill-suited to a soul like yours; leave them for common men, and dare to\n",
            "be happy!\n",
            "~~~~~~~~~~~~~~~~~~~~~~~~~~~~~~~~~~~~\n",
            "you should\n",
            "not seem to remember that there is such a thing as a man in the world,\n",
            "and you ought to imagine every body to be of the same sex with\n",
            "yourself.\n",
            "~~~~~~~~~~~~~~~~~~~~~~~~~~~~~~~~~~~~\n",
            "at such times she would sit for hours\n",
            "gazing upon the lovely girl; and seeming to listen to her innocent\n",
            "prattle, while in reality her thoughts dwelt upon the sorrows into\n",
            "which a moment would suffice to plunge her.\n",
            "~~~~~~~~~~~~~~~~~~~~~~~~~~~~~~~~~~~~\n",
            "believe me, dame, when all is done,\n",
            "your age will still be fifty one;\n",
            "and men will rarely take an hint\n",
            "of love, from two grey eyes that squint.\n",
            "\n",
            "~~~~~~~~~~~~~~~~~~~~~~~~~~~~~~~~~~~~\n",
            "nothing but dead people, and dying people!\n",
            "~~~~~~~~~~~~~~~~~~~~~~~~~~~~~~~~~~~~\n"
          ]
        }
      ]
    },
    {
      "cell_type": "code",
      "metadata": {
        "id": "wFZLPPMMMY-E"
      },
      "source": [
        "test_sentence2 = \"women and knowing\""
      ],
      "execution_count": 68,
      "outputs": []
    },
    {
      "cell_type": "code",
      "metadata": {
        "id": "AuwCgSCoRrIx"
      },
      "source": [
        "input_vec = pl.sent2vec(test_sentence2)"
      ],
      "execution_count": 69,
      "outputs": []
    },
    {
      "cell_type": "code",
      "metadata": {
        "id": "uWbHyxDxQlxW",
        "colab": {
          "base_uri": "https://localhost:8080/"
        },
        "outputId": "0d912446-9ac6-42e6-9e2b-d5c325216e60"
      },
      "source": [
        "nlp.vocab.has_vector('ways')"
      ],
      "execution_count": 70,
      "outputs": [
        {
          "output_type": "execute_result",
          "data": {
            "text/plain": [
              "True"
            ]
          },
          "metadata": {},
          "execution_count": 70
        }
      ]
    },
    {
      "cell_type": "code",
      "metadata": {
        "id": "YD1aYMZpQ7bd"
      },
      "source": [
        "ordered_distances_otranto = []\n",
        "\n",
        "for i in range(len(otranto_matrix)):\n",
        "  vec = otranto_matrix[i]\n",
        "  d = pl.fast_cosine(np.array(input_vec), np.array(vec))\n",
        "  ordered_distances_otranto.append([d, i])"
      ],
      "execution_count": 71,
      "outputs": []
    },
    {
      "cell_type": "code",
      "metadata": {
        "id": "4b0Zuq2wQmIe",
        "colab": {
          "base_uri": "https://localhost:8080/"
        },
        "outputId": "2e8ad3b2-0070-487e-b616-edba8218f510"
      },
      "source": [
        "for d,j in sorted(ordered_distances_otranto, reverse=True)[:10]:\n",
        "  print(otranto_sentences[j])\n",
        "  print('~~~~~~~~~~~~~~~~~~~~~~~~~~~~~~~~~~~~')"
      ],
      "execution_count": 72,
      "outputs": [
        {
          "output_type": "stream",
          "name": "stdout",
          "text": [
            "he does not\n",
            "know you, but takes you for one of my lady hippolita’s women.”\n",
            "~~~~~~~~~~~~~~~~~~~~~~~~~~~~~~~~~~~~\n",
            "“but can i, most respected of women, can i experience all\n",
            "this tenderness, this world of goodness, and conceal a thought from the\n",
            "best of mothers?”\n",
            "\n",
            "“what art thou going to utter?” said isabella trembling.\n",
            "~~~~~~~~~~~~~~~~~~~~~~~~~~~~~~~~~~~~\n",
            "“my councils do not need a friar’s intervention,” said manfred; “and of\n",
            "all men living is that hoary traitor the only one whom you delight to\n",
            "confer with?”\n",
            "\n",
            "“profane prince!”\n",
            "~~~~~~~~~~~~~~~~~~~~~~~~~~~~~~~~~~~~\n",
            "the company had no sooner quitted the castle than matilda, who felt\n",
            "herself deeply interested for the young peasant, since she had seen him\n",
            "condemned to death in the hall, and whose thoughts had been taken up with\n",
            "concerting measures to save him, was informed by some of the female\n",
            "attendants that manfred had despatched all his men various ways in\n",
            "pursuit of isabella.\n",
            "~~~~~~~~~~~~~~~~~~~~~~~~~~~~~~~~~~~~\n",
            "“thou and\n",
            "i must never hope to go where this blessed youth is going!”\n",
            "\n",
            "“despatch!” said manfred; “i am no more to be moved by the whining of\n",
            "priests than by the shrieks of women.”\n",
            "~~~~~~~~~~~~~~~~~~~~~~~~~~~~~~~~~~~~\n",
            "though it is but since yesterday\n",
            "that i am blessed with knowing a parent, i hope matilda does not think i\n",
            "am such a stranger to filial tenderness as not to resent the boldness of\n",
            "that audacious youth, and that it is impossible for me ever to feel any\n",
            "affection for one who dared to lift his arm against the author of my\n",
            "being.\n",
            "~~~~~~~~~~~~~~~~~~~~~~~~~~~~~~~~~~~~\n",
            "\n",
            "\n",
            "the young man, perceiving that his share in the flight of the princess\n",
            "was discovered, and concluding that anything he should say could no\n",
            "longer be of any service or detriment to her, replied—\n",
            "\n",
            "“i am no impostor, my lord, nor have i deserved opprobrious language.\n",
            "~~~~~~~~~~~~~~~~~~~~~~~~~~~~~~~~~~~~\n",
            "what could a friendless, helpless woman do?\n",
            "~~~~~~~~~~~~~~~~~~~~~~~~~~~~~~~~~~~~\n",
            "the damsel he knew was in the confidence of both the young\n",
            "ladies.\n",
            "~~~~~~~~~~~~~~~~~~~~~~~~~~~~~~~~~~~~\n",
            "it\n",
            "exists because of the efforts of hundreds of volunteers and donations\n",
            "from people in all walks of life.\n",
            "~~~~~~~~~~~~~~~~~~~~~~~~~~~~~~~~~~~~\n"
          ]
        }
      ]
    },
    {
      "cell_type": "code",
      "metadata": {
        "id": "DTtXjuIwRIFZ"
      },
      "source": [
        "ordered_distances_monk = []\n",
        "\n",
        "for i in range(len(monk_matrix)):\n",
        "  vec = monk_matrix[i]\n",
        "  d = pl.fast_cosine(np.array(input_vec), np.array(vec))\n",
        "  ordered_distances_monk.append([d, i])"
      ],
      "execution_count": 57,
      "outputs": []
    },
    {
      "cell_type": "code",
      "metadata": {
        "id": "yyXimhoWRL5D",
        "colab": {
          "base_uri": "https://localhost:8080/"
        },
        "outputId": "8a948c6f-f003-49fd-a036-f03dc1890ed3"
      },
      "source": [
        "for d,j in sorted(ordered_distances_monk, reverse=True)[:10]:\n",
        "  print(monk_sentences[j])\n",
        "  print('~~~~~~~~~~~~~~~~~~~~~~~~~~~~~~~~~~~~')"
      ],
      "execution_count": 58,
      "outputs": [
        {
          "output_type": "stream",
          "name": "stdout",
          "text": [
            "believe me, unhappy woman!\n",
            "~~~~~~~~~~~~~~~~~~~~~~~~~~~~~~~~~~~~\n",
            "know, vain man!\n",
            "~~~~~~~~~~~~~~~~~~~~~~~~~~~~~~~~~~~~\n",
            "foolish woman!\n",
            "~~~~~~~~~~~~~~~~~~~~~~~~~~~~~~~~~~~~\n",
            "i am\n",
            "the most unfortunate woman alive!\n",
            "~~~~~~~~~~~~~~~~~~~~~~~~~~~~~~~~~~~~\n",
            "unfeeling woman!\n",
            "~~~~~~~~~~~~~~~~~~~~~~~~~~~~~~~~~~~~\n",
            "miserable woman that i\n",
            "am!\n",
            "~~~~~~~~~~~~~~~~~~~~~~~~~~~~~~~~~~~~\n",
            "a man! speak!\n",
            "~~~~~~~~~~~~~~~~~~~~~~~~~~~~~~~~~~~~\n",
            "well, to be sure, never was woman so unfortunate, as\n",
            "myself!\n",
            "~~~~~~~~~~~~~~~~~~~~~~~~~~~~~~~~~~~~\n",
            "not know your friend?\n",
            "~~~~~~~~~~~~~~~~~~~~~~~~~~~~~~~~~~~~\n",
            "abandoned woman, speak for him no\n",
            "more!\n",
            "~~~~~~~~~~~~~~~~~~~~~~~~~~~~~~~~~~~~\n"
          ]
        }
      ]
    },
    {
      "cell_type": "markdown",
      "source": [
        "For me, test_sentence2 returns passages with significant andro-centric gendering. Also, there is a notable difference here in the style of sentences returned for each novel. The Monk (this latter set above) would appear to be full of short sentences, but many of these lines are truncated; whereas, the results for Otranto include full, and multiple lines of dialog. "
      ],
      "metadata": {
        "id": "jigthFvqdzgM"
      }
    },
    {
      "cell_type": "markdown",
      "metadata": {
        "id": "ZOv5fMAf28Vo"
      },
      "source": [
        "\n",
        "These tests were inspired by the following passage, found here(https://www.gutenberg.org/files/601/601-0.txt):\n",
        "\n",
        "\"“Holy St. Barbara!” exclaimed Leonella; “What a question! Fye, Child,\n",
        "Fye! These are not fit subjects for young Women to handle. You should\n",
        "not seem to remember that there is such a thing as a Man in the world,\n",
        "and you ought to imagine every body to be of the same sex with\n",
        "yourself. I should like to see you give people to understand, that you\n",
        "know that a Man has no breasts, and no hips, and no ...”.\n",
        "\n",
        "Luckily for Antonia’s ignorance which her Aunt’s lecture would soon\n",
        "have dispelled, an universal murmur through the Church announced the\n",
        "Preacher’s arrival. Donna Leonella rose from her seat to take a better\n",
        "view of him, and Antonia followed her example.\"\n",
        "\n",
        "It is important to note that my thinking syncing up with some of these results could be just a coincidence, or \"the existence of spectres.\""
      ]
    },
    {
      "cell_type": "markdown",
      "metadata": {
        "id": "PZPpRQkOgYCp"
      },
      "source": [
        "**This experiment is full of human bias starting with the fact that the word-embedding algorithm pulls \"meaning\" from the internet and uses a logic system that has been showed to hold gender bias (doctor-man=nurse). However, there is also a bias on the part of the user. I had close read each novel in advance of these tests and used what I concluded to direct both my search of the word bag and my creation of each test sentence.**"
      ]
    }
  ]
}