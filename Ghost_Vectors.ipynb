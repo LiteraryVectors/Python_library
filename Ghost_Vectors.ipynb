{
  "nbformat": 4,
  "nbformat_minor": 0,
  "metadata": {
    "colab": {
      "name": "Ghost_Vectors.ipynb",
      "provenance": [],
      "collapsed_sections": [],
      "include_colab_link": true
    },
    "kernelspec": {
      "name": "python3",
      "display_name": "Python 3"
    }
  },
  "cells": [
    {
      "cell_type": "markdown",
      "metadata": {
        "id": "view-in-github",
        "colab_type": "text"
      },
      "source": [
        "<a href=\"https://colab.research.google.com/github/LiteraryVectors/Python_library/blob/Data_Science_Techniques/Ghost_Vectors.ipynb\" target=\"_parent\"><img src=\"https://colab.research.google.com/assets/colab-badge.svg\" alt=\"Open In Colab\"/></a>"
      ]
    },
    {
      "cell_type": "markdown",
      "metadata": {
        "id": "rgVvByo2P2JH"
      },
      "source": [
        "# Test Project (Just for Fun)\n",
        "# The Subjectivity of Gendered Ghosts in Mattew Lewis' *The Monk* and Horace Walpole's *The Castle of Otranto*\n",
        "\n",
        "![alt text](https://upload.wikimedia.org/wikipedia/commons/b/b6/Ghost_Stories_May_1931.jpg)"
      ]
    },
    {
      "cell_type": "code",
      "metadata": {
        "id": "YW1Ql2nDbaGh",
        "colab": {
          "base_uri": "https://localhost:8080/"
        },
        "outputId": "777890b6-40a8-4748-a672-a2fe9ff50e47"
      },
      "source": [
        "!python -m pip install pysimplegui\n"
      ],
      "execution_count": 1,
      "outputs": [
        {
          "output_type": "stream",
          "name": "stdout",
          "text": [
            "Looking in indexes: https://pypi.org/simple, https://us-python.pkg.dev/colab-wheels/public/simple/\n",
            "Requirement already satisfied: pysimplegui in /usr/local/lib/python3.7/dist-packages (4.60.3)\n"
          ]
        }
      ]
    },
    {
      "cell_type": "code",
      "metadata": {
        "id": "0597ret_blo0"
      },
      "source": [
        "# hello_world.py\n",
        "\n",
        "import PySimpleGUI as sg\n",
        "\n",
        "#sg.Window(title=\"Hello World\", layout=[[]], margins=(100, 50)).read()"
      ],
      "execution_count": 2,
      "outputs": []
    },
    {
      "cell_type": "markdown",
      "metadata": {
        "id": "6HB4Ho1oWJAw"
      },
      "source": [
        "# Part One: \n",
        "\n",
        "The first section of this exam will include an attempt to explore my reading of two Gothic novels utilizing functions from my own repository, slicing strings to cut the Gutenburg.org headers, creating lists, writing *for* loops to update a data frame, sorting a word bag by author name and storing to the results to an outside file which can be read back in, and analyzing the word instances from a humanist prospective. \n",
        "\n",
        "The two novels explored below are some of the earliest examples in the genre of Gothic Literature, Horace Walpole's *The Castle of Otranto*, and Matthew Lewis' *The Monk* (both 18th century). They are often read as artifacts of several social tensions, including gender representation. Specifically, these novels were highly sexist.\n",
        "\n",
        "**Research Questions: Are women talked about as objects in the way ghosts are? Do women hold more subjectivity in these strikingly androcentric novels than that of ghosts?**\n"
      ]
    },
    {
      "cell_type": "code",
      "metadata": {
        "id": "CPFIs2NV3lZa"
      },
      "source": [
        "import pandas as pd"
      ],
      "execution_count": 3,
      "outputs": []
    },
    {
      "cell_type": "code",
      "source": [
        "!ls"
      ],
      "metadata": {
        "colab": {
          "base_uri": "https://localhost:8080/"
        },
        "id": "hIUmPhSepMkk",
        "outputId": "cc4fd057-14ba-45f5-e38b-4b46e1eeefa0"
      },
      "execution_count": 4,
      "outputs": [
        {
          "output_type": "stream",
          "name": "stdout",
          "text": [
            "601-0.txt    601-0.txt.2  696-0.txt.1  gdrive\n",
            "601-0.txt.1  696-0.txt\t  696-0.txt.2  Python_library\n"
          ]
        }
      ]
    },
    {
      "cell_type": "code",
      "metadata": {
        "id": "60J2bO34MUX8",
        "colab": {
          "base_uri": "https://localhost:8080/"
        },
        "outputId": "1a1b5bea-60bd-4702-b64c-4332262b6064"
      },
      "source": [
        "!rm -r Python_library\tsample_data\n",
        "LiteraryVectors = 'LiteraryVectors'\n",
        "clone_url = f'https://github.com/{LiteraryVectors}/Python_library.git'\n",
        "!git clone $clone_url\n"
      ],
      "execution_count": 5,
      "outputs": [
        {
          "output_type": "stream",
          "name": "stdout",
          "text": [
            "rm: cannot remove 'sample_data': No such file or directory\n",
            "Cloning into 'Python_library'...\n",
            "remote: Enumerating objects: 221, done.\u001b[K\n",
            "remote: Counting objects: 100% (197/197), done.\u001b[K\n",
            "remote: Compressing objects: 100% (95/95), done.\u001b[K\n",
            "remote: Total 221 (delta 111), reused 173 (delta 99), pack-reused 24\u001b[K\n",
            "Receiving objects: 100% (221/221), 61.45 KiB | 1.25 MiB/s, done.\n",
            "Resolving deltas: 100% (113/113), done.\n"
          ]
        }
      ]
    },
    {
      "cell_type": "code",
      "source": [
        "import Python_library.Bayes_Theorem_Pandas_Word_Bag_Heat_Map as pl"
      ],
      "metadata": {
        "colab": {
          "base_uri": "https://localhost:8080/"
        },
        "id": "eORYKNMJkSoR",
        "outputId": "aef56f2e-bf5c-44af-b166-764959f8974b"
      },
      "execution_count": 6,
      "outputs": [
        {
          "output_type": "stream",
          "name": "stderr",
          "text": [
            "[nltk_data] Downloading package stopwords to /root/nltk_data...\n",
            "[nltk_data]   Package stopwords is already up-to-date!\n"
          ]
        }
      ]
    },
    {
      "cell_type": "code",
      "metadata": {
        "id": "9oPWBuDpIZCj"
      },
      "source": [
        "import spacy"
      ],
      "execution_count": 7,
      "outputs": []
    },
    {
      "cell_type": "code",
      "metadata": {
        "id": "GmjnpXZZIhIs",
        "colab": {
          "base_uri": "https://localhost:8080/"
        },
        "outputId": "01c7e5d5-bb31-4c62-8396-2fb4b8e7c6dd"
      },
      "source": [
        "!python -m spacy download en_core_web_md"
      ],
      "execution_count": 8,
      "outputs": [
        {
          "output_type": "stream",
          "name": "stdout",
          "text": [
            "2022-08-17 22:21:21.064218: E tensorflow/stream_executor/cuda/cuda_driver.cc:271] failed call to cuInit: CUDA_ERROR_NO_DEVICE: no CUDA-capable device is detected\n",
            "Looking in indexes: https://pypi.org/simple, https://us-python.pkg.dev/colab-wheels/public/simple/\n",
            "Collecting en-core-web-md==3.4.0\n",
            "  Downloading https://github.com/explosion/spacy-models/releases/download/en_core_web_md-3.4.0/en_core_web_md-3.4.0-py3-none-any.whl (42.8 MB)\n",
            "\u001b[K     |████████████████████████████████| 42.8 MB 1.4 MB/s \n",
            "\u001b[?25hRequirement already satisfied: spacy<3.5.0,>=3.4.0 in /usr/local/lib/python3.7/dist-packages (from en-core-web-md==3.4.0) (3.4.1)\n",
            "Requirement already satisfied: jinja2 in /usr/local/lib/python3.7/dist-packages (from spacy<3.5.0,>=3.4.0->en-core-web-md==3.4.0) (2.11.3)\n",
            "Requirement already satisfied: typing-extensions<4.2.0,>=3.7.4 in /usr/local/lib/python3.7/dist-packages (from spacy<3.5.0,>=3.4.0->en-core-web-md==3.4.0) (4.1.1)\n",
            "Requirement already satisfied: preshed<3.1.0,>=3.0.2 in /usr/local/lib/python3.7/dist-packages (from spacy<3.5.0,>=3.4.0->en-core-web-md==3.4.0) (3.0.6)\n",
            "Requirement already satisfied: typer<0.5.0,>=0.3.0 in /usr/local/lib/python3.7/dist-packages (from spacy<3.5.0,>=3.4.0->en-core-web-md==3.4.0) (0.4.2)\n",
            "Requirement already satisfied: wasabi<1.1.0,>=0.9.1 in /usr/local/lib/python3.7/dist-packages (from spacy<3.5.0,>=3.4.0->en-core-web-md==3.4.0) (0.10.1)\n",
            "Requirement already satisfied: tqdm<5.0.0,>=4.38.0 in /usr/local/lib/python3.7/dist-packages (from spacy<3.5.0,>=3.4.0->en-core-web-md==3.4.0) (4.64.0)\n",
            "Requirement already satisfied: spacy-legacy<3.1.0,>=3.0.9 in /usr/local/lib/python3.7/dist-packages (from spacy<3.5.0,>=3.4.0->en-core-web-md==3.4.0) (3.0.9)\n",
            "Requirement already satisfied: requests<3.0.0,>=2.13.0 in /usr/local/lib/python3.7/dist-packages (from spacy<3.5.0,>=3.4.0->en-core-web-md==3.4.0) (2.23.0)\n",
            "Requirement already satisfied: setuptools in /usr/local/lib/python3.7/dist-packages (from spacy<3.5.0,>=3.4.0->en-core-web-md==3.4.0) (57.4.0)\n",
            "Requirement already satisfied: packaging>=20.0 in /usr/local/lib/python3.7/dist-packages (from spacy<3.5.0,>=3.4.0->en-core-web-md==3.4.0) (21.3)\n",
            "Requirement already satisfied: catalogue<2.1.0,>=2.0.6 in /usr/local/lib/python3.7/dist-packages (from spacy<3.5.0,>=3.4.0->en-core-web-md==3.4.0) (2.0.8)\n",
            "Requirement already satisfied: murmurhash<1.1.0,>=0.28.0 in /usr/local/lib/python3.7/dist-packages (from spacy<3.5.0,>=3.4.0->en-core-web-md==3.4.0) (1.0.7)\n",
            "Requirement already satisfied: langcodes<4.0.0,>=3.2.0 in /usr/local/lib/python3.7/dist-packages (from spacy<3.5.0,>=3.4.0->en-core-web-md==3.4.0) (3.3.0)\n",
            "Requirement already satisfied: numpy>=1.15.0 in /usr/local/lib/python3.7/dist-packages (from spacy<3.5.0,>=3.4.0->en-core-web-md==3.4.0) (1.21.6)\n",
            "Requirement already satisfied: spacy-loggers<2.0.0,>=1.0.0 in /usr/local/lib/python3.7/dist-packages (from spacy<3.5.0,>=3.4.0->en-core-web-md==3.4.0) (1.0.3)\n",
            "Requirement already satisfied: pathy>=0.3.5 in /usr/local/lib/python3.7/dist-packages (from spacy<3.5.0,>=3.4.0->en-core-web-md==3.4.0) (0.6.2)\n",
            "Requirement already satisfied: srsly<3.0.0,>=2.4.3 in /usr/local/lib/python3.7/dist-packages (from spacy<3.5.0,>=3.4.0->en-core-web-md==3.4.0) (2.4.4)\n",
            "Requirement already satisfied: pydantic!=1.8,!=1.8.1,<1.10.0,>=1.7.4 in /usr/local/lib/python3.7/dist-packages (from spacy<3.5.0,>=3.4.0->en-core-web-md==3.4.0) (1.9.2)\n",
            "Requirement already satisfied: cymem<2.1.0,>=2.0.2 in /usr/local/lib/python3.7/dist-packages (from spacy<3.5.0,>=3.4.0->en-core-web-md==3.4.0) (2.0.6)\n",
            "Requirement already satisfied: thinc<8.2.0,>=8.1.0 in /usr/local/lib/python3.7/dist-packages (from spacy<3.5.0,>=3.4.0->en-core-web-md==3.4.0) (8.1.0)\n",
            "Requirement already satisfied: zipp>=0.5 in /usr/local/lib/python3.7/dist-packages (from catalogue<2.1.0,>=2.0.6->spacy<3.5.0,>=3.4.0->en-core-web-md==3.4.0) (3.8.1)\n",
            "Requirement already satisfied: pyparsing!=3.0.5,>=2.0.2 in /usr/local/lib/python3.7/dist-packages (from packaging>=20.0->spacy<3.5.0,>=3.4.0->en-core-web-md==3.4.0) (3.0.9)\n",
            "Requirement already satisfied: smart-open<6.0.0,>=5.2.1 in /usr/local/lib/python3.7/dist-packages (from pathy>=0.3.5->spacy<3.5.0,>=3.4.0->en-core-web-md==3.4.0) (5.2.1)\n",
            "Requirement already satisfied: chardet<4,>=3.0.2 in /usr/local/lib/python3.7/dist-packages (from requests<3.0.0,>=2.13.0->spacy<3.5.0,>=3.4.0->en-core-web-md==3.4.0) (3.0.4)\n",
            "Requirement already satisfied: certifi>=2017.4.17 in /usr/local/lib/python3.7/dist-packages (from requests<3.0.0,>=2.13.0->spacy<3.5.0,>=3.4.0->en-core-web-md==3.4.0) (2022.6.15)\n",
            "Requirement already satisfied: urllib3!=1.25.0,!=1.25.1,<1.26,>=1.21.1 in /usr/local/lib/python3.7/dist-packages (from requests<3.0.0,>=2.13.0->spacy<3.5.0,>=3.4.0->en-core-web-md==3.4.0) (1.24.3)\n",
            "Requirement already satisfied: idna<3,>=2.5 in /usr/local/lib/python3.7/dist-packages (from requests<3.0.0,>=2.13.0->spacy<3.5.0,>=3.4.0->en-core-web-md==3.4.0) (2.10)\n",
            "Requirement already satisfied: blis<0.8.0,>=0.7.8 in /usr/local/lib/python3.7/dist-packages (from thinc<8.2.0,>=8.1.0->spacy<3.5.0,>=3.4.0->en-core-web-md==3.4.0) (0.7.8)\n",
            "Requirement already satisfied: click<9.0.0,>=7.1.1 in /usr/local/lib/python3.7/dist-packages (from typer<0.5.0,>=0.3.0->spacy<3.5.0,>=3.4.0->en-core-web-md==3.4.0) (7.1.2)\n",
            "Requirement already satisfied: MarkupSafe>=0.23 in /usr/local/lib/python3.7/dist-packages (from jinja2->spacy<3.5.0,>=3.4.0->en-core-web-md==3.4.0) (2.0.1)\n",
            "\u001b[38;5;2m✔ Download and installation successful\u001b[0m\n",
            "You can now load the package via spacy.load('en_core_web_md')\n"
          ]
        }
      ]
    },
    {
      "cell_type": "code",
      "metadata": {
        "id": "gu3q5274IkS7"
      },
      "source": [
        "import en_core_web_md\n",
        "nlp = en_core_web_md.load() "
      ],
      "execution_count": 9,
      "outputs": []
    },
    {
      "cell_type": "code",
      "metadata": {
        "id": "-SCBQSgJInU7"
      },
      "source": [
        "Otranto_url = 'http://www.gutenberg.org/files/696/696-0.txt'\n",
        "Monk_url = 'https://www.gutenberg.org/files/601/601-0.txt'"
      ],
      "execution_count": 10,
      "outputs": []
    },
    {
      "cell_type": "code",
      "metadata": {
        "id": "OwefgCLTIp-D",
        "colab": {
          "base_uri": "https://localhost:8080/"
        },
        "outputId": "21b28c2a-5bfe-400f-8645-d2ddc2061caa"
      },
      "source": [
        "!wget {Otranto_url}"
      ],
      "execution_count": 11,
      "outputs": [
        {
          "output_type": "stream",
          "name": "stdout",
          "text": [
            "--2022-08-17 22:21:34--  http://www.gutenberg.org/files/696/696-0.txt\n",
            "Resolving www.gutenberg.org (www.gutenberg.org)... 152.19.134.47, 2610:28:3090:3000:0:bad:cafe:47\n",
            "Connecting to www.gutenberg.org (www.gutenberg.org)|152.19.134.47|:80... connected.\n",
            "HTTP request sent, awaiting response... 302 Found\n",
            "Location: https://www.gutenberg.org/files/696/696-0.txt [following]\n",
            "--2022-08-17 22:21:35--  https://www.gutenberg.org/files/696/696-0.txt\n",
            "Connecting to www.gutenberg.org (www.gutenberg.org)|152.19.134.47|:443... connected.\n",
            "HTTP request sent, awaiting response... 200 OK\n",
            "Length: 240149 (235K) [text/plain]\n",
            "Saving to: ‘696-0.txt.3’\n",
            "\n",
            "696-0.txt.3         100%[===================>] 234.52K   314KB/s    in 0.7s    \n",
            "\n",
            "2022-08-17 22:21:36 (314 KB/s) - ‘696-0.txt.3’ saved [240149/240149]\n",
            "\n"
          ]
        }
      ]
    },
    {
      "cell_type": "code",
      "metadata": {
        "id": "PQxw2-J5IuL6",
        "colab": {
          "base_uri": "https://localhost:8080/"
        },
        "outputId": "ff731cd3-4da2-41d6-b7d9-e4914a487447"
      },
      "source": [
        "!ls -l"
      ],
      "execution_count": 12,
      "outputs": [
        {
          "output_type": "stream",
          "name": "stdout",
          "text": [
            "total 3388\n",
            "-rw-r--r-- 1 root root 828670 Mar  8  2021 601-0.txt\n",
            "-rw-r--r-- 1 root root 828670 Mar  8  2021 601-0.txt.1\n",
            "-rw-r--r-- 1 root root 828670 Mar  8  2021 601-0.txt.2\n",
            "-rw-r--r-- 1 root root 240149 Apr  9  2021 696-0.txt\n",
            "-rw-r--r-- 1 root root 240149 Apr  9  2021 696-0.txt.1\n",
            "-rw-r--r-- 1 root root 240149 Apr  9  2021 696-0.txt.2\n",
            "-rw-r--r-- 1 root root 240149 Apr  9  2021 696-0.txt.3\n",
            "drwx------ 5 root root   4096 Aug 17 21:26 gdrive\n",
            "drwxr-xr-x 4 root root   4096 Aug 17 22:21 Python_library\n"
          ]
        }
      ]
    },
    {
      "cell_type": "code",
      "metadata": {
        "id": "yACbwsTjIxha"
      },
      "source": [
        "with open('696-0.txt', 'r') as f:\n",
        "  otranto = f.read()"
      ],
      "execution_count": 13,
      "outputs": []
    },
    {
      "cell_type": "code",
      "metadata": {
        "id": "kKXCmfX_I1GI"
      },
      "source": [
        "otranto = otranto[5545:]"
      ],
      "execution_count": 14,
      "outputs": []
    },
    {
      "cell_type": "code",
      "metadata": {
        "id": "3TdePp6-I3Zt",
        "colab": {
          "base_uri": "https://localhost:8080/",
          "height": 70
        },
        "outputId": "4ad775b0-8286-43a9-d87f-c43225fa95fd"
      },
      "source": [
        "otranto[0:500]"
      ],
      "execution_count": 15,
      "outputs": [
        {
          "output_type": "execute_result",
          "data": {
            "text/plain": [
              "' found in the library of an ancient Catholic family\\nin the north of England. It was printed at Naples, in the black letter,\\nin the year 1529. How much sooner it was written does not appear. The\\nprincipal incidents are such as were believed in the darkest ages of\\nChristianity; but the language and conduct have nothing that savours of\\nbarbarism. The style is the purest Italian.\\n\\nIf the story was written near the time when it is supposed to have\\nhappened, it must have been between 1095, the era of '"
            ],
            "application/vnd.google.colaboratory.intrinsic+json": {
              "type": "string"
            }
          },
          "metadata": {},
          "execution_count": 15
        }
      ]
    },
    {
      "cell_type": "code",
      "metadata": {
        "id": "HmY14bfdJANK",
        "colab": {
          "base_uri": "https://localhost:8080/"
        },
        "outputId": "4b297356-2b41-42f0-cef6-6a42781b8240"
      },
      "source": [
        "!wget {Monk_url}"
      ],
      "execution_count": 16,
      "outputs": [
        {
          "output_type": "stream",
          "name": "stdout",
          "text": [
            "--2022-08-17 22:21:36--  https://www.gutenberg.org/files/601/601-0.txt\n",
            "Resolving www.gutenberg.org (www.gutenberg.org)... 152.19.134.47, 2610:28:3090:3000:0:bad:cafe:47\n",
            "Connecting to www.gutenberg.org (www.gutenberg.org)|152.19.134.47|:443... connected.\n",
            "HTTP request sent, awaiting response... 200 OK\n",
            "Length: 828670 (809K) [text/plain]\n",
            "Saving to: ‘601-0.txt.3’\n",
            "\n",
            "601-0.txt.3         100%[===================>] 809.25K   866KB/s    in 0.9s    \n",
            "\n",
            "2022-08-17 22:21:39 (866 KB/s) - ‘601-0.txt.3’ saved [828670/828670]\n",
            "\n"
          ]
        }
      ]
    },
    {
      "cell_type": "code",
      "metadata": {
        "id": "rMYMCMJTJCpz",
        "colab": {
          "base_uri": "https://localhost:8080/"
        },
        "outputId": "429f0e23-1f7d-477b-d489-0656d6d256a9"
      },
      "source": [
        "!ls -l"
      ],
      "execution_count": 17,
      "outputs": [
        {
          "output_type": "stream",
          "name": "stdout",
          "text": [
            "total 4200\n",
            "-rw-r--r-- 1 root root 828670 Mar  8  2021 601-0.txt\n",
            "-rw-r--r-- 1 root root 828670 Mar  8  2021 601-0.txt.1\n",
            "-rw-r--r-- 1 root root 828670 Mar  8  2021 601-0.txt.2\n",
            "-rw-r--r-- 1 root root 828670 Mar  8  2021 601-0.txt.3\n",
            "-rw-r--r-- 1 root root 240149 Apr  9  2021 696-0.txt\n",
            "-rw-r--r-- 1 root root 240149 Apr  9  2021 696-0.txt.1\n",
            "-rw-r--r-- 1 root root 240149 Apr  9  2021 696-0.txt.2\n",
            "-rw-r--r-- 1 root root 240149 Apr  9  2021 696-0.txt.3\n",
            "drwx------ 5 root root   4096 Aug 17 21:26 gdrive\n",
            "drwxr-xr-x 4 root root   4096 Aug 17 22:21 Python_library\n"
          ]
        }
      ]
    },
    {
      "cell_type": "code",
      "metadata": {
        "id": "xB8ZPcnaJFRq"
      },
      "source": [
        "with open('601-0.txt', 'r') as f:\n",
        "  monk = f.read()"
      ],
      "execution_count": 18,
      "outputs": []
    },
    {
      "cell_type": "code",
      "metadata": {
        "id": "tv9HeBbhKMY0",
        "colab": {
          "base_uri": "https://localhost:8080/"
        },
        "outputId": "9f3b9234-3d7c-47c5-c895-3ef85ea0f9c5"
      },
      "source": [
        "monk.index('Methinks')"
      ],
      "execution_count": 19,
      "outputs": [
        {
          "output_type": "execute_result",
          "data": {
            "text/plain": [
              "1268"
            ]
          },
          "metadata": {},
          "execution_count": 19
        }
      ]
    },
    {
      "cell_type": "code",
      "metadata": {
        "id": "n2_BNG34JHYY"
      },
      "source": [
        "monk = monk[934:]"
      ],
      "execution_count": 20,
      "outputs": []
    },
    {
      "cell_type": "code",
      "metadata": {
        "id": "P6u-zMjMJJu6",
        "colab": {
          "base_uri": "https://localhost:8080/",
          "height": 36
        },
        "outputId": "bdeb7500-127e-4b4f-89ed-f992273d5d0f"
      },
      "source": [
        "monk[0:150]"
      ],
      "execution_count": 21,
      "outputs": [
        {
          "output_type": "execute_result",
          "data": {
            "text/plain": [
              "'.\\n\\nHORAT.\\n\\nDreams, magic terrors, spells of mighty power,\\nWitches, and ghosts who rove at midnight hour.\\n\\n\\nContents\\n\\n PREFACE\\n CHAPTER I.\\n CHAPTER II.'"
            ],
            "application/vnd.google.colaboratory.intrinsic+json": {
              "type": "string"
            }
          },
          "metadata": {},
          "execution_count": 21
        }
      ]
    },
    {
      "cell_type": "code",
      "metadata": {
        "id": "4LfEyrunO2su"
      },
      "source": [
        "doc1 = nlp(otranto.lower())"
      ],
      "execution_count": 22,
      "outputs": []
    },
    {
      "cell_type": "code",
      "metadata": {
        "id": "4lrG3MHa2jd1"
      },
      "source": [
        "doc2 = nlp(monk.lower())"
      ],
      "execution_count": 23,
      "outputs": []
    },
    {
      "cell_type": "code",
      "metadata": {
        "id": "4tOc4-1Q0b9u"
      },
      "source": [
        "word_table = pd.DataFrame(columns=['word', 'ML', 'HW'])"
      ],
      "execution_count": 24,
      "outputs": []
    },
    {
      "cell_type": "code",
      "metadata": {
        "id": "wjZdrnYv1v-O"
      },
      "source": [
        "for token in doc1:\n",
        "    if token.is_alpha and not token.is_stop:\n",
        "      pl.update_gothic_row(word_table,token.text,'HW')"
      ],
      "execution_count": 25,
      "outputs": []
    },
    {
      "cell_type": "code",
      "metadata": {
        "id": "HUqP-Rjy5vtC"
      },
      "source": [
        "for token in doc2:\n",
        "    if token.is_alpha and not token.is_stop:\n",
        "      pl.update_gothic_row(word_table,token.text,'ML')"
      ],
      "execution_count": 26,
      "outputs": []
    },
    {
      "cell_type": "code",
      "metadata": {
        "id": "byRIBgfa54LP",
        "colab": {
          "base_uri": "https://localhost:8080/",
          "height": 206
        },
        "outputId": "8366aed3-6782-4387-83c6-b64e304bd906"
      },
      "source": [
        "word_table.head()"
      ],
      "execution_count": 27,
      "outputs": [
        {
          "output_type": "execute_result",
          "data": {
            "text/plain": [
              "       word   ML  HW\n",
              "0     found  139  31\n",
              "1   library    3   2\n",
              "2   ancient    0   5\n",
              "3  catholic    1   1\n",
              "4    family   35   9"
            ],
            "text/html": [
              "\n",
              "  <div id=\"df-d11ef306-0b43-4814-8648-1af34405c067\">\n",
              "    <div class=\"colab-df-container\">\n",
              "      <div>\n",
              "<style scoped>\n",
              "    .dataframe tbody tr th:only-of-type {\n",
              "        vertical-align: middle;\n",
              "    }\n",
              "\n",
              "    .dataframe tbody tr th {\n",
              "        vertical-align: top;\n",
              "    }\n",
              "\n",
              "    .dataframe thead th {\n",
              "        text-align: right;\n",
              "    }\n",
              "</style>\n",
              "<table border=\"1\" class=\"dataframe\">\n",
              "  <thead>\n",
              "    <tr style=\"text-align: right;\">\n",
              "      <th></th>\n",
              "      <th>word</th>\n",
              "      <th>ML</th>\n",
              "      <th>HW</th>\n",
              "    </tr>\n",
              "  </thead>\n",
              "  <tbody>\n",
              "    <tr>\n",
              "      <th>0</th>\n",
              "      <td>found</td>\n",
              "      <td>139</td>\n",
              "      <td>31</td>\n",
              "    </tr>\n",
              "    <tr>\n",
              "      <th>1</th>\n",
              "      <td>library</td>\n",
              "      <td>3</td>\n",
              "      <td>2</td>\n",
              "    </tr>\n",
              "    <tr>\n",
              "      <th>2</th>\n",
              "      <td>ancient</td>\n",
              "      <td>0</td>\n",
              "      <td>5</td>\n",
              "    </tr>\n",
              "    <tr>\n",
              "      <th>3</th>\n",
              "      <td>catholic</td>\n",
              "      <td>1</td>\n",
              "      <td>1</td>\n",
              "    </tr>\n",
              "    <tr>\n",
              "      <th>4</th>\n",
              "      <td>family</td>\n",
              "      <td>35</td>\n",
              "      <td>9</td>\n",
              "    </tr>\n",
              "  </tbody>\n",
              "</table>\n",
              "</div>\n",
              "      <button class=\"colab-df-convert\" onclick=\"convertToInteractive('df-d11ef306-0b43-4814-8648-1af34405c067')\"\n",
              "              title=\"Convert this dataframe to an interactive table.\"\n",
              "              style=\"display:none;\">\n",
              "        \n",
              "  <svg xmlns=\"http://www.w3.org/2000/svg\" height=\"24px\"viewBox=\"0 0 24 24\"\n",
              "       width=\"24px\">\n",
              "    <path d=\"M0 0h24v24H0V0z\" fill=\"none\"/>\n",
              "    <path d=\"M18.56 5.44l.94 2.06.94-2.06 2.06-.94-2.06-.94-.94-2.06-.94 2.06-2.06.94zm-11 1L8.5 8.5l.94-2.06 2.06-.94-2.06-.94L8.5 2.5l-.94 2.06-2.06.94zm10 10l.94 2.06.94-2.06 2.06-.94-2.06-.94-.94-2.06-.94 2.06-2.06.94z\"/><path d=\"M17.41 7.96l-1.37-1.37c-.4-.4-.92-.59-1.43-.59-.52 0-1.04.2-1.43.59L10.3 9.45l-7.72 7.72c-.78.78-.78 2.05 0 2.83L4 21.41c.39.39.9.59 1.41.59.51 0 1.02-.2 1.41-.59l7.78-7.78 2.81-2.81c.8-.78.8-2.07 0-2.86zM5.41 20L4 18.59l7.72-7.72 1.47 1.35L5.41 20z\"/>\n",
              "  </svg>\n",
              "      </button>\n",
              "      \n",
              "  <style>\n",
              "    .colab-df-container {\n",
              "      display:flex;\n",
              "      flex-wrap:wrap;\n",
              "      gap: 12px;\n",
              "    }\n",
              "\n",
              "    .colab-df-convert {\n",
              "      background-color: #E8F0FE;\n",
              "      border: none;\n",
              "      border-radius: 50%;\n",
              "      cursor: pointer;\n",
              "      display: none;\n",
              "      fill: #1967D2;\n",
              "      height: 32px;\n",
              "      padding: 0 0 0 0;\n",
              "      width: 32px;\n",
              "    }\n",
              "\n",
              "    .colab-df-convert:hover {\n",
              "      background-color: #E2EBFA;\n",
              "      box-shadow: 0px 1px 2px rgba(60, 64, 67, 0.3), 0px 1px 3px 1px rgba(60, 64, 67, 0.15);\n",
              "      fill: #174EA6;\n",
              "    }\n",
              "\n",
              "    [theme=dark] .colab-df-convert {\n",
              "      background-color: #3B4455;\n",
              "      fill: #D2E3FC;\n",
              "    }\n",
              "\n",
              "    [theme=dark] .colab-df-convert:hover {\n",
              "      background-color: #434B5C;\n",
              "      box-shadow: 0px 1px 3px 1px rgba(0, 0, 0, 0.15);\n",
              "      filter: drop-shadow(0px 1px 2px rgba(0, 0, 0, 0.3));\n",
              "      fill: #FFFFFF;\n",
              "    }\n",
              "  </style>\n",
              "\n",
              "      <script>\n",
              "        const buttonEl =\n",
              "          document.querySelector('#df-d11ef306-0b43-4814-8648-1af34405c067 button.colab-df-convert');\n",
              "        buttonEl.style.display =\n",
              "          google.colab.kernel.accessAllowed ? 'block' : 'none';\n",
              "\n",
              "        async function convertToInteractive(key) {\n",
              "          const element = document.querySelector('#df-d11ef306-0b43-4814-8648-1af34405c067');\n",
              "          const dataTable =\n",
              "            await google.colab.kernel.invokeFunction('convertToInteractive',\n",
              "                                                     [key], {});\n",
              "          if (!dataTable) return;\n",
              "\n",
              "          const docLinkHtml = 'Like what you see? Visit the ' +\n",
              "            '<a target=\"_blank\" href=https://colab.research.google.com/notebooks/data_table.ipynb>data table notebook</a>'\n",
              "            + ' to learn more about interactive tables.';\n",
              "          element.innerHTML = '';\n",
              "          dataTable['output_type'] = 'display_data';\n",
              "          await google.colab.output.renderOutput(dataTable, element);\n",
              "          const docLink = document.createElement('div');\n",
              "          docLink.innerHTML = docLinkHtml;\n",
              "          element.appendChild(docLink);\n",
              "        }\n",
              "      </script>\n",
              "    </div>\n",
              "  </div>\n",
              "  "
            ]
          },
          "metadata": {},
          "execution_count": 27
        }
      ]
    },
    {
      "cell_type": "code",
      "metadata": {
        "id": "3MYLQQuECywH"
      },
      "source": [
        "sorted_word_table = word_table.sort_values(by=['word'])\n",
        "sorted_word_table = sorted_word_table.reset_index(drop=True)"
      ],
      "execution_count": 28,
      "outputs": []
    },
    {
      "cell_type": "code",
      "metadata": {
        "id": "2bySfWA_C3id",
        "colab": {
          "base_uri": "https://localhost:8080/",
          "height": 237
        },
        "outputId": "cf796872-b46d-409a-cd6a-8610a411a21a"
      },
      "source": [
        "sorted_word_table = sorted_word_table.set_index('word')\n",
        "sorted_word_table.head()"
      ],
      "execution_count": 29,
      "outputs": [
        {
          "output_type": "execute_result",
          "data": {
            "text/plain": [
              "            ML HW\n",
              "word             \n",
              "abandon     23  2\n",
              "abandoned   32  2\n",
              "abandoning   3  0\n",
              "abated       7  0\n",
              "abbess       2  0"
            ],
            "text/html": [
              "\n",
              "  <div id=\"df-d1ae5a23-4cfd-4458-a183-b8c308a1e7c0\">\n",
              "    <div class=\"colab-df-container\">\n",
              "      <div>\n",
              "<style scoped>\n",
              "    .dataframe tbody tr th:only-of-type {\n",
              "        vertical-align: middle;\n",
              "    }\n",
              "\n",
              "    .dataframe tbody tr th {\n",
              "        vertical-align: top;\n",
              "    }\n",
              "\n",
              "    .dataframe thead th {\n",
              "        text-align: right;\n",
              "    }\n",
              "</style>\n",
              "<table border=\"1\" class=\"dataframe\">\n",
              "  <thead>\n",
              "    <tr style=\"text-align: right;\">\n",
              "      <th></th>\n",
              "      <th>ML</th>\n",
              "      <th>HW</th>\n",
              "    </tr>\n",
              "    <tr>\n",
              "      <th>word</th>\n",
              "      <th></th>\n",
              "      <th></th>\n",
              "    </tr>\n",
              "  </thead>\n",
              "  <tbody>\n",
              "    <tr>\n",
              "      <th>abandon</th>\n",
              "      <td>23</td>\n",
              "      <td>2</td>\n",
              "    </tr>\n",
              "    <tr>\n",
              "      <th>abandoned</th>\n",
              "      <td>32</td>\n",
              "      <td>2</td>\n",
              "    </tr>\n",
              "    <tr>\n",
              "      <th>abandoning</th>\n",
              "      <td>3</td>\n",
              "      <td>0</td>\n",
              "    </tr>\n",
              "    <tr>\n",
              "      <th>abated</th>\n",
              "      <td>7</td>\n",
              "      <td>0</td>\n",
              "    </tr>\n",
              "    <tr>\n",
              "      <th>abbess</th>\n",
              "      <td>2</td>\n",
              "      <td>0</td>\n",
              "    </tr>\n",
              "  </tbody>\n",
              "</table>\n",
              "</div>\n",
              "      <button class=\"colab-df-convert\" onclick=\"convertToInteractive('df-d1ae5a23-4cfd-4458-a183-b8c308a1e7c0')\"\n",
              "              title=\"Convert this dataframe to an interactive table.\"\n",
              "              style=\"display:none;\">\n",
              "        \n",
              "  <svg xmlns=\"http://www.w3.org/2000/svg\" height=\"24px\"viewBox=\"0 0 24 24\"\n",
              "       width=\"24px\">\n",
              "    <path d=\"M0 0h24v24H0V0z\" fill=\"none\"/>\n",
              "    <path d=\"M18.56 5.44l.94 2.06.94-2.06 2.06-.94-2.06-.94-.94-2.06-.94 2.06-2.06.94zm-11 1L8.5 8.5l.94-2.06 2.06-.94-2.06-.94L8.5 2.5l-.94 2.06-2.06.94zm10 10l.94 2.06.94-2.06 2.06-.94-2.06-.94-.94-2.06-.94 2.06-2.06.94z\"/><path d=\"M17.41 7.96l-1.37-1.37c-.4-.4-.92-.59-1.43-.59-.52 0-1.04.2-1.43.59L10.3 9.45l-7.72 7.72c-.78.78-.78 2.05 0 2.83L4 21.41c.39.39.9.59 1.41.59.51 0 1.02-.2 1.41-.59l7.78-7.78 2.81-2.81c.8-.78.8-2.07 0-2.86zM5.41 20L4 18.59l7.72-7.72 1.47 1.35L5.41 20z\"/>\n",
              "  </svg>\n",
              "      </button>\n",
              "      \n",
              "  <style>\n",
              "    .colab-df-container {\n",
              "      display:flex;\n",
              "      flex-wrap:wrap;\n",
              "      gap: 12px;\n",
              "    }\n",
              "\n",
              "    .colab-df-convert {\n",
              "      background-color: #E8F0FE;\n",
              "      border: none;\n",
              "      border-radius: 50%;\n",
              "      cursor: pointer;\n",
              "      display: none;\n",
              "      fill: #1967D2;\n",
              "      height: 32px;\n",
              "      padding: 0 0 0 0;\n",
              "      width: 32px;\n",
              "    }\n",
              "\n",
              "    .colab-df-convert:hover {\n",
              "      background-color: #E2EBFA;\n",
              "      box-shadow: 0px 1px 2px rgba(60, 64, 67, 0.3), 0px 1px 3px 1px rgba(60, 64, 67, 0.15);\n",
              "      fill: #174EA6;\n",
              "    }\n",
              "\n",
              "    [theme=dark] .colab-df-convert {\n",
              "      background-color: #3B4455;\n",
              "      fill: #D2E3FC;\n",
              "    }\n",
              "\n",
              "    [theme=dark] .colab-df-convert:hover {\n",
              "      background-color: #434B5C;\n",
              "      box-shadow: 0px 1px 3px 1px rgba(0, 0, 0, 0.15);\n",
              "      filter: drop-shadow(0px 1px 2px rgba(0, 0, 0, 0.3));\n",
              "      fill: #FFFFFF;\n",
              "    }\n",
              "  </style>\n",
              "\n",
              "      <script>\n",
              "        const buttonEl =\n",
              "          document.querySelector('#df-d1ae5a23-4cfd-4458-a183-b8c308a1e7c0 button.colab-df-convert');\n",
              "        buttonEl.style.display =\n",
              "          google.colab.kernel.accessAllowed ? 'block' : 'none';\n",
              "\n",
              "        async function convertToInteractive(key) {\n",
              "          const element = document.querySelector('#df-d1ae5a23-4cfd-4458-a183-b8c308a1e7c0');\n",
              "          const dataTable =\n",
              "            await google.colab.kernel.invokeFunction('convertToInteractive',\n",
              "                                                     [key], {});\n",
              "          if (!dataTable) return;\n",
              "\n",
              "          const docLinkHtml = 'Like what you see? Visit the ' +\n",
              "            '<a target=\"_blank\" href=https://colab.research.google.com/notebooks/data_table.ipynb>data table notebook</a>'\n",
              "            + ' to learn more about interactive tables.';\n",
              "          element.innerHTML = '';\n",
              "          dataTable['output_type'] = 'display_data';\n",
              "          await google.colab.output.renderOutput(dataTable, element);\n",
              "          const docLink = document.createElement('div');\n",
              "          docLink.innerHTML = docLinkHtml;\n",
              "          element.appendChild(docLink);\n",
              "        }\n",
              "      </script>\n",
              "    </div>\n",
              "  </div>\n",
              "  "
            ]
          },
          "metadata": {},
          "execution_count": 29
        }
      ]
    },
    {
      "cell_type": "code",
      "metadata": {
        "id": "VcccF-G7FmDL",
        "colab": {
          "base_uri": "https://localhost:8080/"
        },
        "outputId": "5103fc92-8891-4fa9-9cfb-fb096fce31fe"
      },
      "source": [
        "from google.colab import drive\n",
        "drive.mount('/content/gdrive')"
      ],
      "execution_count": 30,
      "outputs": [
        {
          "output_type": "stream",
          "name": "stdout",
          "text": [
            "Drive already mounted at /content/gdrive; to attempt to forcibly remount, call drive.mount(\"/content/gdrive\", force_remount=True).\n"
          ]
        }
      ]
    },
    {
      "cell_type": "code",
      "metadata": {
        "id": "aa4D5hcY1LG2"
      },
      "source": [
        "with open('gdrive/My Drive/FinalWordBag.csv', 'w') as file:\n",
        "    sorted_word_table.to_csv(file, index=True)"
      ],
      "execution_count": 31,
      "outputs": []
    },
    {
      "cell_type": "code",
      "metadata": {
        "id": "b-erul381LTC"
      },
      "source": [
        "with open('gdrive/My Drive/FinalWordBag.csv', 'r') as file:\n",
        "    sorted_word_table = pd.read_csv(file, dtype={'word':str}, encoding='utf-8',\n",
        "                                    index_col='word', na_filter=False)"
      ],
      "execution_count": 32,
      "outputs": []
    },
    {
      "cell_type": "code",
      "metadata": {
        "id": "Vu-w73kkEWPM",
        "colab": {
          "base_uri": "https://localhost:8080/"
        },
        "outputId": "e2e3ac8b-acc3-459d-cdda-61d008a2df5a"
      },
      "source": [
        "sorted_word_table.loc['women', 'ML'] "
      ],
      "execution_count": 33,
      "outputs": [
        {
          "output_type": "execute_result",
          "data": {
            "text/plain": [
              "23"
            ]
          },
          "metadata": {},
          "execution_count": 33
        }
      ]
    },
    {
      "cell_type": "code",
      "metadata": {
        "id": "3IjY9Is7LICz",
        "colab": {
          "base_uri": "https://localhost:8080/",
          "height": 206
        },
        "outputId": "c10f1aa2-780f-4793-f9de-a6206bbaf6e3"
      },
      "source": [
        "sorted_word_table[3753:3757]"
      ],
      "execution_count": 34,
      "outputs": [
        {
          "output_type": "execute_result",
          "data": {
            "text/plain": [
              "         ML  HW\n",
              "word           \n",
              "ghastly   1   1\n",
              "ghost    51   7\n",
              "ghostly   2   0\n",
              "ghosts    8   1"
            ],
            "text/html": [
              "\n",
              "  <div id=\"df-56d549e5-e4a0-4118-95df-a12ba2336087\">\n",
              "    <div class=\"colab-df-container\">\n",
              "      <div>\n",
              "<style scoped>\n",
              "    .dataframe tbody tr th:only-of-type {\n",
              "        vertical-align: middle;\n",
              "    }\n",
              "\n",
              "    .dataframe tbody tr th {\n",
              "        vertical-align: top;\n",
              "    }\n",
              "\n",
              "    .dataframe thead th {\n",
              "        text-align: right;\n",
              "    }\n",
              "</style>\n",
              "<table border=\"1\" class=\"dataframe\">\n",
              "  <thead>\n",
              "    <tr style=\"text-align: right;\">\n",
              "      <th></th>\n",
              "      <th>ML</th>\n",
              "      <th>HW</th>\n",
              "    </tr>\n",
              "    <tr>\n",
              "      <th>word</th>\n",
              "      <th></th>\n",
              "      <th></th>\n",
              "    </tr>\n",
              "  </thead>\n",
              "  <tbody>\n",
              "    <tr>\n",
              "      <th>ghastly</th>\n",
              "      <td>1</td>\n",
              "      <td>1</td>\n",
              "    </tr>\n",
              "    <tr>\n",
              "      <th>ghost</th>\n",
              "      <td>51</td>\n",
              "      <td>7</td>\n",
              "    </tr>\n",
              "    <tr>\n",
              "      <th>ghostly</th>\n",
              "      <td>2</td>\n",
              "      <td>0</td>\n",
              "    </tr>\n",
              "    <tr>\n",
              "      <th>ghosts</th>\n",
              "      <td>8</td>\n",
              "      <td>1</td>\n",
              "    </tr>\n",
              "  </tbody>\n",
              "</table>\n",
              "</div>\n",
              "      <button class=\"colab-df-convert\" onclick=\"convertToInteractive('df-56d549e5-e4a0-4118-95df-a12ba2336087')\"\n",
              "              title=\"Convert this dataframe to an interactive table.\"\n",
              "              style=\"display:none;\">\n",
              "        \n",
              "  <svg xmlns=\"http://www.w3.org/2000/svg\" height=\"24px\"viewBox=\"0 0 24 24\"\n",
              "       width=\"24px\">\n",
              "    <path d=\"M0 0h24v24H0V0z\" fill=\"none\"/>\n",
              "    <path d=\"M18.56 5.44l.94 2.06.94-2.06 2.06-.94-2.06-.94-.94-2.06-.94 2.06-2.06.94zm-11 1L8.5 8.5l.94-2.06 2.06-.94-2.06-.94L8.5 2.5l-.94 2.06-2.06.94zm10 10l.94 2.06.94-2.06 2.06-.94-2.06-.94-.94-2.06-.94 2.06-2.06.94z\"/><path d=\"M17.41 7.96l-1.37-1.37c-.4-.4-.92-.59-1.43-.59-.52 0-1.04.2-1.43.59L10.3 9.45l-7.72 7.72c-.78.78-.78 2.05 0 2.83L4 21.41c.39.39.9.59 1.41.59.51 0 1.02-.2 1.41-.59l7.78-7.78 2.81-2.81c.8-.78.8-2.07 0-2.86zM5.41 20L4 18.59l7.72-7.72 1.47 1.35L5.41 20z\"/>\n",
              "  </svg>\n",
              "      </button>\n",
              "      \n",
              "  <style>\n",
              "    .colab-df-container {\n",
              "      display:flex;\n",
              "      flex-wrap:wrap;\n",
              "      gap: 12px;\n",
              "    }\n",
              "\n",
              "    .colab-df-convert {\n",
              "      background-color: #E8F0FE;\n",
              "      border: none;\n",
              "      border-radius: 50%;\n",
              "      cursor: pointer;\n",
              "      display: none;\n",
              "      fill: #1967D2;\n",
              "      height: 32px;\n",
              "      padding: 0 0 0 0;\n",
              "      width: 32px;\n",
              "    }\n",
              "\n",
              "    .colab-df-convert:hover {\n",
              "      background-color: #E2EBFA;\n",
              "      box-shadow: 0px 1px 2px rgba(60, 64, 67, 0.3), 0px 1px 3px 1px rgba(60, 64, 67, 0.15);\n",
              "      fill: #174EA6;\n",
              "    }\n",
              "\n",
              "    [theme=dark] .colab-df-convert {\n",
              "      background-color: #3B4455;\n",
              "      fill: #D2E3FC;\n",
              "    }\n",
              "\n",
              "    [theme=dark] .colab-df-convert:hover {\n",
              "      background-color: #434B5C;\n",
              "      box-shadow: 0px 1px 3px 1px rgba(0, 0, 0, 0.15);\n",
              "      filter: drop-shadow(0px 1px 2px rgba(0, 0, 0, 0.3));\n",
              "      fill: #FFFFFF;\n",
              "    }\n",
              "  </style>\n",
              "\n",
              "      <script>\n",
              "        const buttonEl =\n",
              "          document.querySelector('#df-56d549e5-e4a0-4118-95df-a12ba2336087 button.colab-df-convert');\n",
              "        buttonEl.style.display =\n",
              "          google.colab.kernel.accessAllowed ? 'block' : 'none';\n",
              "\n",
              "        async function convertToInteractive(key) {\n",
              "          const element = document.querySelector('#df-56d549e5-e4a0-4118-95df-a12ba2336087');\n",
              "          const dataTable =\n",
              "            await google.colab.kernel.invokeFunction('convertToInteractive',\n",
              "                                                     [key], {});\n",
              "          if (!dataTable) return;\n",
              "\n",
              "          const docLinkHtml = 'Like what you see? Visit the ' +\n",
              "            '<a target=\"_blank\" href=https://colab.research.google.com/notebooks/data_table.ipynb>data table notebook</a>'\n",
              "            + ' to learn more about interactive tables.';\n",
              "          element.innerHTML = '';\n",
              "          dataTable['output_type'] = 'display_data';\n",
              "          await google.colab.output.renderOutput(dataTable, element);\n",
              "          const docLink = document.createElement('div');\n",
              "          docLink.innerHTML = docLinkHtml;\n",
              "          element.appendChild(docLink);\n",
              "        }\n",
              "      </script>\n",
              "    </div>\n",
              "  </div>\n",
              "  "
            ]
          },
          "metadata": {},
          "execution_count": 34
        }
      ]
    },
    {
      "cell_type": "markdown",
      "metadata": {
        "id": "PylDz8j9SofU"
      },
      "source": [
        "* ML:53 instances of ghost or ghostly\n",
        "* HW: 7 instances of ghost or ghostly"
      ]
    },
    {
      "cell_type": "code",
      "metadata": {
        "id": "yUQ4-1fFNk4r",
        "colab": {
          "base_uri": "https://localhost:8080/",
          "height": 206
        },
        "outputId": "153b29cc-a0e9-4ba5-85f4-7c39e5b41bbd"
      },
      "source": [
        "sorted_word_table[9457:9461]"
      ],
      "execution_count": 35,
      "outputs": [
        {
          "output_type": "execute_result",
          "data": {
            "text/plain": [
              "          ML  HW\n",
              "word            \n",
              "woman     91  16\n",
              "womanish   0   2\n",
              "womanly    0   1\n",
              "women     23   7"
            ],
            "text/html": [
              "\n",
              "  <div id=\"df-f67b1f81-6790-4bfd-aa55-f663f0f99b1c\">\n",
              "    <div class=\"colab-df-container\">\n",
              "      <div>\n",
              "<style scoped>\n",
              "    .dataframe tbody tr th:only-of-type {\n",
              "        vertical-align: middle;\n",
              "    }\n",
              "\n",
              "    .dataframe tbody tr th {\n",
              "        vertical-align: top;\n",
              "    }\n",
              "\n",
              "    .dataframe thead th {\n",
              "        text-align: right;\n",
              "    }\n",
              "</style>\n",
              "<table border=\"1\" class=\"dataframe\">\n",
              "  <thead>\n",
              "    <tr style=\"text-align: right;\">\n",
              "      <th></th>\n",
              "      <th>ML</th>\n",
              "      <th>HW</th>\n",
              "    </tr>\n",
              "    <tr>\n",
              "      <th>word</th>\n",
              "      <th></th>\n",
              "      <th></th>\n",
              "    </tr>\n",
              "  </thead>\n",
              "  <tbody>\n",
              "    <tr>\n",
              "      <th>woman</th>\n",
              "      <td>91</td>\n",
              "      <td>16</td>\n",
              "    </tr>\n",
              "    <tr>\n",
              "      <th>womanish</th>\n",
              "      <td>0</td>\n",
              "      <td>2</td>\n",
              "    </tr>\n",
              "    <tr>\n",
              "      <th>womanly</th>\n",
              "      <td>0</td>\n",
              "      <td>1</td>\n",
              "    </tr>\n",
              "    <tr>\n",
              "      <th>women</th>\n",
              "      <td>23</td>\n",
              "      <td>7</td>\n",
              "    </tr>\n",
              "  </tbody>\n",
              "</table>\n",
              "</div>\n",
              "      <button class=\"colab-df-convert\" onclick=\"convertToInteractive('df-f67b1f81-6790-4bfd-aa55-f663f0f99b1c')\"\n",
              "              title=\"Convert this dataframe to an interactive table.\"\n",
              "              style=\"display:none;\">\n",
              "        \n",
              "  <svg xmlns=\"http://www.w3.org/2000/svg\" height=\"24px\"viewBox=\"0 0 24 24\"\n",
              "       width=\"24px\">\n",
              "    <path d=\"M0 0h24v24H0V0z\" fill=\"none\"/>\n",
              "    <path d=\"M18.56 5.44l.94 2.06.94-2.06 2.06-.94-2.06-.94-.94-2.06-.94 2.06-2.06.94zm-11 1L8.5 8.5l.94-2.06 2.06-.94-2.06-.94L8.5 2.5l-.94 2.06-2.06.94zm10 10l.94 2.06.94-2.06 2.06-.94-2.06-.94-.94-2.06-.94 2.06-2.06.94z\"/><path d=\"M17.41 7.96l-1.37-1.37c-.4-.4-.92-.59-1.43-.59-.52 0-1.04.2-1.43.59L10.3 9.45l-7.72 7.72c-.78.78-.78 2.05 0 2.83L4 21.41c.39.39.9.59 1.41.59.51 0 1.02-.2 1.41-.59l7.78-7.78 2.81-2.81c.8-.78.8-2.07 0-2.86zM5.41 20L4 18.59l7.72-7.72 1.47 1.35L5.41 20z\"/>\n",
              "  </svg>\n",
              "      </button>\n",
              "      \n",
              "  <style>\n",
              "    .colab-df-container {\n",
              "      display:flex;\n",
              "      flex-wrap:wrap;\n",
              "      gap: 12px;\n",
              "    }\n",
              "\n",
              "    .colab-df-convert {\n",
              "      background-color: #E8F0FE;\n",
              "      border: none;\n",
              "      border-radius: 50%;\n",
              "      cursor: pointer;\n",
              "      display: none;\n",
              "      fill: #1967D2;\n",
              "      height: 32px;\n",
              "      padding: 0 0 0 0;\n",
              "      width: 32px;\n",
              "    }\n",
              "\n",
              "    .colab-df-convert:hover {\n",
              "      background-color: #E2EBFA;\n",
              "      box-shadow: 0px 1px 2px rgba(60, 64, 67, 0.3), 0px 1px 3px 1px rgba(60, 64, 67, 0.15);\n",
              "      fill: #174EA6;\n",
              "    }\n",
              "\n",
              "    [theme=dark] .colab-df-convert {\n",
              "      background-color: #3B4455;\n",
              "      fill: #D2E3FC;\n",
              "    }\n",
              "\n",
              "    [theme=dark] .colab-df-convert:hover {\n",
              "      background-color: #434B5C;\n",
              "      box-shadow: 0px 1px 3px 1px rgba(0, 0, 0, 0.15);\n",
              "      filter: drop-shadow(0px 1px 2px rgba(0, 0, 0, 0.3));\n",
              "      fill: #FFFFFF;\n",
              "    }\n",
              "  </style>\n",
              "\n",
              "      <script>\n",
              "        const buttonEl =\n",
              "          document.querySelector('#df-f67b1f81-6790-4bfd-aa55-f663f0f99b1c button.colab-df-convert');\n",
              "        buttonEl.style.display =\n",
              "          google.colab.kernel.accessAllowed ? 'block' : 'none';\n",
              "\n",
              "        async function convertToInteractive(key) {\n",
              "          const element = document.querySelector('#df-f67b1f81-6790-4bfd-aa55-f663f0f99b1c');\n",
              "          const dataTable =\n",
              "            await google.colab.kernel.invokeFunction('convertToInteractive',\n",
              "                                                     [key], {});\n",
              "          if (!dataTable) return;\n",
              "\n",
              "          const docLinkHtml = 'Like what you see? Visit the ' +\n",
              "            '<a target=\"_blank\" href=https://colab.research.google.com/notebooks/data_table.ipynb>data table notebook</a>'\n",
              "            + ' to learn more about interactive tables.';\n",
              "          element.innerHTML = '';\n",
              "          dataTable['output_type'] = 'display_data';\n",
              "          await google.colab.output.renderOutput(dataTable, element);\n",
              "          const docLink = document.createElement('div');\n",
              "          docLink.innerHTML = docLinkHtml;\n",
              "          element.appendChild(docLink);\n",
              "        }\n",
              "      </script>\n",
              "    </div>\n",
              "  </div>\n",
              "  "
            ]
          },
          "metadata": {},
          "execution_count": 35
        }
      ]
    },
    {
      "cell_type": "markdown",
      "metadata": {
        "id": "Y_YhzAasS4bi"
      },
      "source": [
        "* ML: 114 instances of the word woman and its variations\n",
        "* HW: 26 instances of the word woman and its variations "
      ]
    },
    {
      "cell_type": "markdown",
      "metadata": {
        "id": "T5VNnpdhTZKw"
      },
      "source": [
        "* ML: 134 instances of the word man and its variations compared to the 114 for women\n",
        "* HW: 87 instances of the word man and its variations compared to the 26\n"
      ]
    },
    {
      "cell_type": "markdown",
      "metadata": {
        "id": "fD8jKZP7UWRB"
      },
      "source": [
        "* ML:52 instances of ghost or ghostly \n",
        "* HW: 7 instances of ghost or ghostly\n",
        "\n",
        "In Horace Walpole's novel *The Castle of Otranto*, there are only 19 more instances of women than ghosts, and in Mathew Lewis' novel *The Monk*, there are 62 more instances of the subject of women over that of ghosts. \n",
        "\n",
        "But what does that mean? \n",
        "Maybe nothing. \n",
        "Let's explore further with word-embedding and sentence vectors. **I am curious if ghosts and women are talked about in similar ways (as an objectified other)**  "
      ]
    },
    {
      "cell_type": "markdown",
      "metadata": {
        "id": "ApO49vgYW9KT"
      },
      "source": [
        "# Part Two: \n",
        "\n",
        "Use vector functions and matrix loops as a part of a word-embedding algorithm to further explore the novels' words of interest within the context of sentences. "
      ]
    },
    {
      "cell_type": "code",
      "metadata": {
        "id": "pQOEW6eEbFrh"
      },
      "source": [
        "otranto_sentences = list(doc1.sents)"
      ],
      "execution_count": 36,
      "outputs": []
    },
    {
      "cell_type": "code",
      "metadata": {
        "id": "wlP9vq3R2vLN"
      },
      "source": [
        "monk_sentences = list(doc2.sents)"
      ],
      "execution_count": 37,
      "outputs": []
    },
    {
      "cell_type": "code",
      "metadata": {
        "id": "KQ3ow8fLD4GT"
      },
      "source": [
        "sent_table = pd.DataFrame(columns=['Sent', 'ML', 'HW'])"
      ],
      "execution_count": 38,
      "outputs": []
    },
    {
      "cell_type": "code",
      "metadata": {
        "id": "TjKjimYOD5r1"
      },
      "source": [
        "#for i in range (len(otranto_sentences)):\n",
        "    #pl.update_gothic_row_sent(sent_table,doc1.sents,'HW')\n",
        "#Experimental cell"
      ],
      "execution_count": 39,
      "outputs": []
    },
    {
      "cell_type": "code",
      "metadata": {
        "id": "kTaCPMe8D53t"
      },
      "source": [
        "#for i in range (len(monk_sentences)):\n",
        "    #pl.update_gothic_row_sent(sent_table,doc2.sents,'ML')\n",
        "#Experimental cell"
      ],
      "execution_count": 40,
      "outputs": []
    },
    {
      "cell_type": "code",
      "metadata": {
        "id": "q-tMTI-IUN3F"
      },
      "source": [
        "#sent_table.head()\n",
        "#Experimental cell"
      ],
      "execution_count": 41,
      "outputs": []
    },
    {
      "cell_type": "code",
      "metadata": {
        "id": "ChCppLQpFcBr"
      },
      "source": [
        "otranto_matrix = []\n",
        "\n",
        "for i in range(len(otranto_sentences)): \n",
        "  sentence = otranto_sentences[i]\n",
        "  vec = pl.sent2vec(sentence.text)\n",
        "  otranto_matrix.append(vec)"
      ],
      "execution_count": 42,
      "outputs": []
    },
    {
      "cell_type": "code",
      "source": [
        "nlp.vocab.has_vector('barrier')#you can check to see if there is data to work with on specific words"
      ],
      "metadata": {
        "colab": {
          "base_uri": "https://localhost:8080/"
        },
        "id": "LYa-ZpFPvC2P",
        "outputId": "9c502b55-ca38-467b-8da3-2f20a3367edc"
      },
      "execution_count": 43,
      "outputs": [
        {
          "output_type": "execute_result",
          "data": {
            "text/plain": [
              "True"
            ]
          },
          "metadata": {},
          "execution_count": 43
        }
      ]
    },
    {
      "cell_type": "code",
      "metadata": {
        "id": "_1UfVrzrFrbU"
      },
      "source": [
        "monk_matrix = []\n",
        "\n",
        "for i in range(len(monk_sentences)):  \n",
        "  sentence = monk_sentences[i]\n",
        "  vec = pl.sent2vec(sentence.text)\n",
        "  monk_matrix.append(vec)"
      ],
      "execution_count": 44,
      "outputs": []
    },
    {
      "cell_type": "code",
      "metadata": {
        "id": "YS3Q0G-8FuvR"
      },
      "source": [
        "test_sentence = \"ghosts are subjects\""
      ],
      "execution_count": 45,
      "outputs": []
    },
    {
      "cell_type": "markdown",
      "metadata": {
        "id": "GrcHwwjK9cSt"
      },
      "source": [
        "**I selected this test sentence because I am curious how ghosts are talked about in context of a sentence. This curiousness is related to my research questions, stated above. I am exploring the possibility of ghosts being talked about as objects, rather than talked to as subjects, as women often are in these dated novels.**"
      ]
    },
    {
      "cell_type": "code",
      "metadata": {
        "id": "Vpj_3vhLF1uw"
      },
      "source": [
        "input_vec = pl.sent2vec(test_sentence)"
      ],
      "execution_count": 46,
      "outputs": []
    },
    {
      "cell_type": "code",
      "metadata": {
        "id": "Yb7yvY5EFmEW",
        "colab": {
          "base_uri": "https://localhost:8080/"
        },
        "outputId": "ebb12138-6a8e-4189-f7ef-1fb44f41c973"
      },
      "source": [
        "nlp.vocab.has_vector('ghost')"
      ],
      "execution_count": 47,
      "outputs": [
        {
          "output_type": "execute_result",
          "data": {
            "text/plain": [
              "True"
            ]
          },
          "metadata": {},
          "execution_count": 47
        }
      ]
    },
    {
      "cell_type": "code",
      "metadata": {
        "id": "Ou8cwSS_OMnD"
      },
      "source": [
        "import numpy as np"
      ],
      "execution_count": 48,
      "outputs": []
    },
    {
      "cell_type": "code",
      "metadata": {
        "id": "O9VKZbb9GjyO"
      },
      "source": [
        "ordered_distances_otranto = []\n",
        "\n",
        "for i in range(len(otranto_matrix)):\n",
        "  vec = otranto_matrix[i]\n",
        "  d = pl.fast_cosine(np.array(input_vec), np.array(vec))\n",
        "  ordered_distances_otranto.append([d, i])"
      ],
      "execution_count": 50,
      "outputs": []
    },
    {
      "cell_type": "code",
      "metadata": {
        "id": "o8QuCwMhGkHo",
        "colab": {
          "base_uri": "https://localhost:8080/"
        },
        "outputId": "4774ca70-9927-4644-8e1e-b789d7c1cb0f"
      },
      "source": [
        "for d,j in sorted(ordered_distances_otranto, reverse=True)[:10]:\n",
        "  print(otranto_sentences[j])\n",
        "  print('~~~~~~~~~~~~~~~~~~~~~~~~~~~~~~~~~~~~')\n"
      ],
      "execution_count": 51,
      "outputs": [
        {
          "output_type": "stream",
          "name": "stdout",
          "text": [
            "miracles, visions, necromancy, dreams, and other\n",
            "preternatural events, are exploded now even from romances.\n",
            "~~~~~~~~~~~~~~~~~~~~~~~~~~~~~~~~~~~~\n",
            "the\n",
            "principal incidents are such as were believed in the darkest ages of\n",
            "christianity; but the language and conduct have nothing that savours of\n",
            "barbarism.\n",
            "~~~~~~~~~~~~~~~~~~~~~~~~~~~~~~~~~~~~\n",
            "his tenants and subjects were less cautious in\n",
            "their discourses.\n",
            "~~~~~~~~~~~~~~~~~~~~~~~~~~~~~~~~~~~~\n",
            "belief in every kind of prodigy was so\n",
            "established in those dark ages, that an author would not be faithful to\n",
            "the manners of the times, who should omit all mention of them.\n",
            "~~~~~~~~~~~~~~~~~~~~~~~~~~~~~~~~~~~~\n",
            "some persons may perhaps think the characters of the domestics too little\n",
            "serious for the general cast of the story; but besides their opposition\n",
            "to the principal personages, the art of the author is very observable in\n",
            "his conduct of the subalterns.\n",
            "~~~~~~~~~~~~~~~~~~~~~~~~~~~~~~~~~~~~\n",
            "yet these mysteries, or contradictions, did not make the\n",
            "populace adhere the less to their opinion.\n",
            "\n",
            "\n",
            "~~~~~~~~~~~~~~~~~~~~~~~~~~~~~~~~~~~~\n",
            "it is not unlikely that\n",
            "an artful priest might endeavour to turn their own arms on the\n",
            "innovators, and might avail himself of his abilities as an author to\n",
            "confirm the populace in their ancient errors and superstitions.\n",
            "~~~~~~~~~~~~~~~~~~~~~~~~~~~~~~~~~~~~\n",
            "there is no bombast, no similes, flowers, digressions, or unnecessary\n",
            "descriptions.\n",
            "~~~~~~~~~~~~~~~~~~~~~~~~~~~~~~~~~~~~\n",
            "their minds were in a\n",
            "situation that excluded sleep, and each recollected a thousand questions\n",
            "which she wished she had put to the other overnight.\n",
            "~~~~~~~~~~~~~~~~~~~~~~~~~~~~~~~~~~~~\n",
            "there is no\n",
            "other circumstance in the work that can lead us to guess at the period in\n",
            "which the scene is laid: the names of the actors are evidently\n",
            "fictitious, and probably disguised on purpose: yet the spanish names of\n",
            "the domestics seem to indicate that this work was not composed until the\n",
            "establishment of the arragonian kings in naples had made spanish\n",
            "appellations familiar in that country.\n",
            "~~~~~~~~~~~~~~~~~~~~~~~~~~~~~~~~~~~~\n"
          ]
        }
      ]
    },
    {
      "cell_type": "markdown",
      "metadata": {
        "id": "scOlLMZQyDDZ"
      },
      "source": [
        "* ghosts are talked about, not talked with, which resonates with The Monk results after test sentence #2\n",
        "* The algorithm picked up the word \"apparitions\""
      ]
    },
    {
      "cell_type": "code",
      "metadata": {
        "id": "h0FNcJOkGkVE"
      },
      "source": [
        "ordered_distances_monk = []\n",
        "\n",
        "for i in range(len(monk_matrix)):\n",
        "  vec = monk_matrix[i]\n",
        "  d = pl.fast_cosine(np.array(input_vec), np.array(vec))\n",
        "  ordered_distances_monk.append([d, i])"
      ],
      "execution_count": 53,
      "outputs": []
    },
    {
      "cell_type": "code",
      "metadata": {
        "id": "JF714_wOGkjt",
        "colab": {
          "base_uri": "https://localhost:8080/"
        },
        "outputId": "ce003572-ee39-435d-ac72-124f1bf1f317"
      },
      "source": [
        "for d,j in sorted(ordered_distances_monk, reverse=True)[:10]:\n",
        "  print(monk_sentences[j])\n",
        "  print('~~~~~~~~~~~~~~~~~~~~~~~~~~~~~~~~~~~~')"
      ],
      "execution_count": 54,
      "outputs": [
        {
          "output_type": "stream",
          "name": "stdout",
          "text": [
            "no wonder that his imagination constantly\n",
            "dwelling upon these fearful objects should have rendered his character\n",
            "timid and apprehensive.\n",
            "~~~~~~~~~~~~~~~~~~~~~~~~~~~~~~~~~~~~\n",
            "the robbers who infested the wood, marguerite’s exclamation respecting\n",
            "her children, the arms and appearance of the two young men, and the\n",
            "various anecdotes which i had heard related, respecting the secret\n",
            "correspondence which frequently exists between banditti and\n",
            "postillions, all these circumstances flashed upon my mind, and inspired\n",
            "me with doubt and apprehension.\n",
            "~~~~~~~~~~~~~~~~~~~~~~~~~~~~~~~~~~~~\n",
            "this circumstance confirmed the\n",
            "suspicion of the monk’s having dealt in magic: it was even supposed\n",
            "that his former influence over the minds of the people was entirely to\n",
            "be ascribed to witchcraft.\n",
            "~~~~~~~~~~~~~~~~~~~~~~~~~~~~~~~~~~~~\n",
            "i strove to divert\n",
            "my attention from the perils which surrounded me, by conversing on\n",
            "different subjects with the baroness.\n",
            "~~~~~~~~~~~~~~~~~~~~~~~~~~~~~~~~~~~~\n",
            "every element possesses its appropriate dæmons.\n",
            "~~~~~~~~~~~~~~~~~~~~~~~~~~~~~~~~~~~~\n",
            "profound silence prevailed, except when the inquisitors whispered a few\n",
            "words among themselves mysteriously.\n",
            "~~~~~~~~~~~~~~~~~~~~~~~~~~~~~~~~~~~~\n",
            "while\n",
            "the nuns, and virginia in particular, employed themselves in striving\n",
            "to recall her to her senses, lorenzo related in few words the manner of\n",
            "his finding her.\n",
            "~~~~~~~~~~~~~~~~~~~~~~~~~~~~~~~~~~~~\n",
            "his\n",
            "imagination totally engrossed by the ideas of sorcery and spirits, he\n",
            "fancied that some unquiet ghost was wandering near him; or else that\n",
            "matilda had fallen a victim to her presumption, and was perishing under\n",
            "the cruel fangs of the dæmons.\n",
            "~~~~~~~~~~~~~~~~~~~~~~~~~~~~~~~~~~~~\n",
            "the nature of those\n",
            "crimes no one is more capable of explaining to you than myself: i was\n",
            "personally acquainted with the holy man who proscribed her nocturnal\n",
            "riots in the castle of lindenberg, and i hold this narrative from his\n",
            "own lips.\n",
            "\n",
            "\n",
            "~~~~~~~~~~~~~~~~~~~~~~~~~~~~~~~~~~~~\n",
            "theodore amused himself with retailing to the credulous nuns for\n",
            "truths all the strange stories which his imagination could invent.\n",
            "~~~~~~~~~~~~~~~~~~~~~~~~~~~~~~~~~~~~\n"
          ]
        }
      ]
    },
    {
      "cell_type": "markdown",
      "metadata": {
        "id": "5s4qOV-PyO4I"
      },
      "source": [
        "* The algorithm knew another word for ghost was spectre!\n",
        "* The spectres are seen and talked about but do not hold sujectivity\n",
        "* Lewis' ghosts here are women!\n",
        "\n"
      ]
    },
    {
      "cell_type": "code",
      "metadata": {
        "id": "wFZLPPMMMY-E"
      },
      "source": [
        "test_sentence2 = \"women and ghosts\""
      ],
      "execution_count": 55,
      "outputs": []
    },
    {
      "cell_type": "code",
      "metadata": {
        "id": "AuwCgSCoRrIx"
      },
      "source": [
        "input_vec = pl.sent2vec(test_sentence2)"
      ],
      "execution_count": 57,
      "outputs": []
    },
    {
      "cell_type": "code",
      "metadata": {
        "id": "uWbHyxDxQlxW",
        "colab": {
          "base_uri": "https://localhost:8080/"
        },
        "outputId": "c2961479-8064-4ab1-8461-f2031ce8e35d"
      },
      "source": [
        "nlp.vocab.has_vector('women')"
      ],
      "execution_count": 58,
      "outputs": [
        {
          "output_type": "execute_result",
          "data": {
            "text/plain": [
              "True"
            ]
          },
          "metadata": {},
          "execution_count": 58
        }
      ]
    },
    {
      "cell_type": "code",
      "metadata": {
        "id": "YD1aYMZpQ7bd"
      },
      "source": [
        "ordered_distances_otranto = []\n",
        "\n",
        "for i in range(len(otranto_matrix)):\n",
        "  vec = otranto_matrix[i]\n",
        "  d = pl.fast_cosine(np.array(input_vec), np.array(vec))\n",
        "  ordered_distances_otranto.append([d, i])"
      ],
      "execution_count": 60,
      "outputs": []
    },
    {
      "cell_type": "code",
      "metadata": {
        "id": "4b0Zuq2wQmIe",
        "colab": {
          "base_uri": "https://localhost:8080/"
        },
        "outputId": "26914ef1-5635-43a9-9578-89520c60b7ec"
      },
      "source": [
        "for d,j in sorted(ordered_distances_otranto, reverse=True)[:10]:\n",
        "  print(otranto_sentences[j])\n",
        "  print('~~~~~~~~~~~~~~~~~~~~~~~~~~~~~~~~~~~~')"
      ],
      "execution_count": 61,
      "outputs": [
        {
          "output_type": "stream",
          "name": "stdout",
          "text": [
            "who comes there?—”\n",
            "\n",
            "“the most wretched of women!”\n",
            "~~~~~~~~~~~~~~~~~~~~~~~~~~~~~~~~~~~~\n",
            "“my councils do not need a friar’s intervention,” said manfred; “and of\n",
            "all men living is that hoary traitor the only one whom you delight to\n",
            "confer with?”\n",
            "\n",
            "“profane prince!”\n",
            "~~~~~~~~~~~~~~~~~~~~~~~~~~~~~~~~~~~~\n",
            "“oh! madam,” said bianca, “all men use their wives so, when they are\n",
            "weary of them.”\n",
            "~~~~~~~~~~~~~~~~~~~~~~~~~~~~~~~~~~~~\n",
            "the company had no sooner quitted the castle than matilda, who felt\n",
            "herself deeply interested for the young peasant, since she had seen him\n",
            "condemned to death in the hall, and whose thoughts had been taken up with\n",
            "concerting measures to save him, was informed by some of the female\n",
            "attendants that manfred had despatched all his men various ways in\n",
            "pursuit of isabella.\n",
            "~~~~~~~~~~~~~~~~~~~~~~~~~~~~~~~~~~~~\n",
            "miracles, visions, necromancy, dreams, and other\n",
            "preternatural events, are exploded now even from romances.\n",
            "~~~~~~~~~~~~~~~~~~~~~~~~~~~~~~~~~~~~\n",
            "if i were ambitious, i should not\n",
            "for so many years have been a prey to all the hell of conscientious\n",
            "scruples.\n",
            "~~~~~~~~~~~~~~~~~~~~~~~~~~~~~~~~~~~~\n",
            "“thou and\n",
            "i must never hope to go where this blessed youth is going!”\n",
            "\n",
            "“despatch!” said manfred; “i am no more to be moved by the whining of\n",
            "priests than by the shrieks of women.”\n",
            "~~~~~~~~~~~~~~~~~~~~~~~~~~~~~~~~~~~~\n",
            "what could a friendless, helpless woman do?\n",
            "~~~~~~~~~~~~~~~~~~~~~~~~~~~~~~~~~~~~\n",
            "he does not\n",
            "know you, but takes you for one of my lady hippolita’s women.”\n",
            "\n",
            "“art thou not ashamed, bianca!”\n",
            "~~~~~~~~~~~~~~~~~~~~~~~~~~~~~~~~~~~~\n",
            "the young princess wearied herself in conjectures on the flight of\n",
            "isabella, and on the threats of manfred to her mother.\n",
            "~~~~~~~~~~~~~~~~~~~~~~~~~~~~~~~~~~~~\n"
          ]
        }
      ]
    },
    {
      "cell_type": "code",
      "metadata": {
        "id": "DTtXjuIwRIFZ"
      },
      "source": [
        "ordered_distances_monk = []\n",
        "\n",
        "for i in range(len(monk_matrix)):\n",
        "  vec = monk_matrix[i]\n",
        "  d = pl.fast_cosine(np.array(input_vec), np.array(vec))\n",
        "  ordered_distances_monk.append([d, i])"
      ],
      "execution_count": 62,
      "outputs": []
    },
    {
      "cell_type": "code",
      "metadata": {
        "id": "yyXimhoWRL5D",
        "colab": {
          "base_uri": "https://localhost:8080/"
        },
        "outputId": "4bbe98dc-76ae-4d87-cc5d-c7a0abbf51ee"
      },
      "source": [
        "for d,j in sorted(ordered_distances_monk, reverse=True)[:10]:\n",
        "  print(monk_sentences[j])\n",
        "  print('~~~~~~~~~~~~~~~~~~~~~~~~~~~~~~~~~~~~')"
      ],
      "execution_count": 63,
      "outputs": [
        {
          "output_type": "stream",
          "name": "stdout",
          "text": [
            "are you not infamous in\n",
            "the eyes of men and angels.\n",
            "~~~~~~~~~~~~~~~~~~~~~~~~~~~~~~~~~~~~\n",
            "————some of them are gentlemen\n",
            "such as the fury of ungoverned youth\n",
            "thrust from the company of awful men.\n",
            "\n",
            "\n",
            "~~~~~~~~~~~~~~~~~~~~~~~~~~~~~~~~~~~~\n",
            "the young men observed\n",
            "this, and enquired the cause.\n",
            "~~~~~~~~~~~~~~~~~~~~~~~~~~~~~~~~~~~~\n",
            "nothing but dead people, and dying people!\n",
            "~~~~~~~~~~~~~~~~~~~~~~~~~~~~~~~~~~~~\n",
            "miserable woman that i\n",
            "am!\n",
            "~~~~~~~~~~~~~~~~~~~~~~~~~~~~~~~~~~~~\n",
            "these are not fit subjects for young women to handle.\n",
            "~~~~~~~~~~~~~~~~~~~~~~~~~~~~~~~~~~~~\n",
            "we have two spare chambers, one for the lady, the other, monsieur, for\n",
            "you: my wife shall give up hers to the two waiting-women; as for the\n",
            "men-servants, they must content themselves with passing the night in a\n",
            "large barn, which stands at a few yards distance from the house.\n",
            "~~~~~~~~~~~~~~~~~~~~~~~~~~~~~~~~~~~~\n",
            "fear not the little jealousy which taints the\n",
            "generality of women: my soul disdains so despicable a passion.\n",
            "~~~~~~~~~~~~~~~~~~~~~~~~~~~~~~~~~~~~\n",
            "alarmed at the\n",
            "threats of the people, the monks seek for you everywhere.\n",
            "~~~~~~~~~~~~~~~~~~~~~~~~~~~~~~~~~~~~\n",
            "believe me, dame, when all is done,\n",
            "your age will still be fifty one;\n",
            "and men will rarely take an hint\n",
            "of love, from two grey eyes that squint.\n",
            "\n",
            "~~~~~~~~~~~~~~~~~~~~~~~~~~~~~~~~~~~~\n"
          ]
        }
      ]
    },
    {
      "cell_type": "markdown",
      "metadata": {
        "id": "GVLWjeEkzqIZ"
      },
      "source": [
        "* Notice how women are being talked about as objects or others in The Monk compared to Otranto. This is similar to what we see in the ghost results in the Monk\n",
        "* EX: too commonly the lot of women who make the first false step.  "
      ]
    },
    {
      "cell_type": "markdown",
      "metadata": {
        "id": "ZOv5fMAf28Vo"
      },
      "source": [
        "**This does not prove that women and ghosts are similarly objectified as others rather than positioned as active subjects within each novel, especially since the results from Walpole's novel on the \"Women are Subjects\" provides some evidence to counter it. However, a lot of the evidence on this page, such as the instances of gender representation in the word bag, and the Lewis sent2vec results do show that there is room for a further investigation of the issue. Lewis' ghosts and women are talked about and seen, more than they are heard in these results. After all, in his opinion, \"these are not fit subjects for young women to handle.\" Still, it is important to note that is could very well be a coincidence and nothing more than \"the existence of spectres.\" Overall, the overlap between ghosts being gendered as women in Lewis' novel is compelling for a feminist reading and something that I had not noticed until running sent2vec with the test sentence \"ghosts are subjects\"**"
      ]
    },
    {
      "cell_type": "markdown",
      "metadata": {
        "id": "PZPpRQkOgYCp"
      },
      "source": [
        "**This experiment is full of human bias starting with the fact that the word-embedding algorithm pulls \"meaning\" from the internet and uses a logic system that has been showed to hold gender bias (doctor-man=nurse). However, there is also a bias on the part of the user. I had close read each novel in advance of these tests and used what I concluded to direct both my search of the word bag and my creation of each test sentence.**"
      ]
    }
  ]
}